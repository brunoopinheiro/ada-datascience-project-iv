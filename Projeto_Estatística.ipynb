{
 "cells": [
  {
   "cell_type": "markdown",
   "id": "fda519c0-dc07-4a23-8c3c-752bd1d56309",
   "metadata": {},
   "source": [
    "<div style=\"background-color: lightgreen; padding: 18px;\">\n",
    "    <h1> Projeto| Estatística I\n",
    "</div>"
   ]
  },
  {
   "cell_type": "markdown",
   "id": "d1ff0af2-0397-4f49-86ef-0f8d68d2844f",
   "metadata": {},
   "source": [
    "### Esse projeto visa a aplicação dos conceitos e ferramental da Estatística desenvolvidos nesse módulo"
   ]
  },
  {
   "cell_type": "markdown",
   "id": "beb81548-3d4c-4225-9821-0f18762d631a",
   "metadata": {},
   "source": [
    "##### Para o desenvolvimento das atividades abaixo, o seu grupo pode escolher qualquer dataset que contenha uma coluna com valores inteiros."
   ]
  },
  {
   "cell_type": "code",
   "execution_count": 86,
   "id": "20b6748a",
   "metadata": {},
   "outputs": [],
   "source": [
    "# Bibliotecas utilizadas\n",
    "import pandas as pd\n",
    "import matplotlib.pyplot as plt\n",
    "import numpy as np\n",
    "from scipy import stats"
   ]
  },
  {
   "cell_type": "code",
   "execution_count": 87,
   "id": "1583b6d5-7780-4647-bc49-fcdb31b87842",
   "metadata": {},
   "outputs": [
    {
     "data": {
      "text/html": [
       "<div>\n",
       "<style scoped>\n",
       "    .dataframe tbody tr th:only-of-type {\n",
       "        vertical-align: middle;\n",
       "    }\n",
       "\n",
       "    .dataframe tbody tr th {\n",
       "        vertical-align: top;\n",
       "    }\n",
       "\n",
       "    .dataframe thead th {\n",
       "        text-align: right;\n",
       "    }\n",
       "</style>\n",
       "<table border=\"1\" class=\"dataframe\">\n",
       "  <thead>\n",
       "    <tr style=\"text-align: right;\">\n",
       "      <th></th>\n",
       "      <th>Unnamed: 0</th>\n",
       "      <th>ID</th>\n",
       "      <th>Country of Origin</th>\n",
       "      <th>Farm Name</th>\n",
       "      <th>Lot Number</th>\n",
       "      <th>Mill</th>\n",
       "      <th>ICO Number</th>\n",
       "      <th>Company</th>\n",
       "      <th>Altitude</th>\n",
       "      <th>Region</th>\n",
       "      <th>...</th>\n",
       "      <th>Total Cup Points</th>\n",
       "      <th>Moisture Percentage</th>\n",
       "      <th>Category One Defects</th>\n",
       "      <th>Quakers</th>\n",
       "      <th>Color</th>\n",
       "      <th>Category Two Defects</th>\n",
       "      <th>Expiration</th>\n",
       "      <th>Certification Body</th>\n",
       "      <th>Certification Address</th>\n",
       "      <th>Certification Contact</th>\n",
       "    </tr>\n",
       "  </thead>\n",
       "  <tbody>\n",
       "    <tr>\n",
       "      <th>0</th>\n",
       "      <td>0</td>\n",
       "      <td>0</td>\n",
       "      <td>Colombia</td>\n",
       "      <td>Finca El Paraiso</td>\n",
       "      <td>CQU2022015</td>\n",
       "      <td>Finca El Paraiso</td>\n",
       "      <td>NaN</td>\n",
       "      <td>Coffee Quality Union</td>\n",
       "      <td>1700-1930</td>\n",
       "      <td>Piendamo,Cauca</td>\n",
       "      <td>...</td>\n",
       "      <td>89.33</td>\n",
       "      <td>11.8</td>\n",
       "      <td>0</td>\n",
       "      <td>0</td>\n",
       "      <td>green</td>\n",
       "      <td>3</td>\n",
       "      <td>September 21st, 2023</td>\n",
       "      <td>Japan Coffee Exchange</td>\n",
       "      <td>〒413-0002 静岡県熱海市伊豆山１１７３−５８ 1173-58 Izusan, Ata...</td>\n",
       "      <td>松澤　宏樹　Koju Matsuzawa - +81(0)9085642901</td>\n",
       "    </tr>\n",
       "    <tr>\n",
       "      <th>1</th>\n",
       "      <td>1</td>\n",
       "      <td>1</td>\n",
       "      <td>Taiwan</td>\n",
       "      <td>Royal Bean Geisha Estate</td>\n",
       "      <td>The 2022 Pacific Rim Coffee Summit,T037</td>\n",
       "      <td>Royal Bean Geisha Estate</td>\n",
       "      <td>NaN</td>\n",
       "      <td>Taiwan Coffee Laboratory</td>\n",
       "      <td>1200</td>\n",
       "      <td>Chiayi</td>\n",
       "      <td>...</td>\n",
       "      <td>87.58</td>\n",
       "      <td>10.5</td>\n",
       "      <td>0</td>\n",
       "      <td>0</td>\n",
       "      <td>blue-green</td>\n",
       "      <td>0</td>\n",
       "      <td>November 15th, 2023</td>\n",
       "      <td>Taiwan Coffee Laboratory 台灣咖啡研究室</td>\n",
       "      <td>QAHWAH CO., LTD 4F, No. 225, Sec. 3, Beixin Rd...</td>\n",
       "      <td>Lin, Jen-An Neil 林仁安 - 886-289116612</td>\n",
       "    </tr>\n",
       "    <tr>\n",
       "      <th>2</th>\n",
       "      <td>2</td>\n",
       "      <td>2</td>\n",
       "      <td>Laos</td>\n",
       "      <td>OKLAO coffee farms</td>\n",
       "      <td>The 2022 Pacific Rim Coffee Summit,LA01</td>\n",
       "      <td>oklao coffee processing plant</td>\n",
       "      <td>NaN</td>\n",
       "      <td>Taiwan Coffee Laboratory</td>\n",
       "      <td>1300</td>\n",
       "      <td>Laos Borofen Plateau</td>\n",
       "      <td>...</td>\n",
       "      <td>87.42</td>\n",
       "      <td>10.4</td>\n",
       "      <td>0</td>\n",
       "      <td>0</td>\n",
       "      <td>yellowish</td>\n",
       "      <td>2</td>\n",
       "      <td>November 15th, 2023</td>\n",
       "      <td>Taiwan Coffee Laboratory 台灣咖啡研究室</td>\n",
       "      <td>QAHWAH CO., LTD 4F, No. 225, Sec. 3, Beixin Rd...</td>\n",
       "      <td>Lin, Jen-An Neil 林仁安 - 886-289116612</td>\n",
       "    </tr>\n",
       "    <tr>\n",
       "      <th>3</th>\n",
       "      <td>3</td>\n",
       "      <td>3</td>\n",
       "      <td>Costa Rica</td>\n",
       "      <td>La Cumbre</td>\n",
       "      <td>CQU2022017</td>\n",
       "      <td>La Montana Tarrazu MIll</td>\n",
       "      <td>NaN</td>\n",
       "      <td>Coffee Quality Union</td>\n",
       "      <td>1900</td>\n",
       "      <td>Los Santos,Tarrazu</td>\n",
       "      <td>...</td>\n",
       "      <td>87.17</td>\n",
       "      <td>11.8</td>\n",
       "      <td>0</td>\n",
       "      <td>0</td>\n",
       "      <td>green</td>\n",
       "      <td>0</td>\n",
       "      <td>September 21st, 2023</td>\n",
       "      <td>Japan Coffee Exchange</td>\n",
       "      <td>〒413-0002 静岡県熱海市伊豆山１１７３−５８ 1173-58 Izusan, Ata...</td>\n",
       "      <td>松澤　宏樹　Koju Matsuzawa - +81(0)9085642901</td>\n",
       "    </tr>\n",
       "    <tr>\n",
       "      <th>4</th>\n",
       "      <td>4</td>\n",
       "      <td>4</td>\n",
       "      <td>Colombia</td>\n",
       "      <td>Finca Santuario</td>\n",
       "      <td>CQU2023002</td>\n",
       "      <td>Finca Santuario</td>\n",
       "      <td>NaN</td>\n",
       "      <td>Coffee Quality Union</td>\n",
       "      <td>1850-2100</td>\n",
       "      <td>Popayan,Cauca</td>\n",
       "      <td>...</td>\n",
       "      <td>87.08</td>\n",
       "      <td>11.6</td>\n",
       "      <td>0</td>\n",
       "      <td>2</td>\n",
       "      <td>yellow-green</td>\n",
       "      <td>2</td>\n",
       "      <td>March 5th, 2024</td>\n",
       "      <td>Japan Coffee Exchange</td>\n",
       "      <td>〒413-0002 静岡県熱海市伊豆山１１７３−５８ 1173-58 Izusan, Ata...</td>\n",
       "      <td>松澤　宏樹　Koju Matsuzawa - +81(0)9085642901</td>\n",
       "    </tr>\n",
       "    <tr>\n",
       "      <th>5</th>\n",
       "      <td>5</td>\n",
       "      <td>5</td>\n",
       "      <td>Guatemala</td>\n",
       "      <td>La Colina</td>\n",
       "      <td>The 2022 Pacific Rim Coffee Summit,GT02</td>\n",
       "      <td>Dinámica Café</td>\n",
       "      <td>NaN</td>\n",
       "      <td>Taiwan Coffee Laboratory</td>\n",
       "      <td>1668</td>\n",
       "      <td>Chimaltenango</td>\n",
       "      <td>...</td>\n",
       "      <td>87.00</td>\n",
       "      <td>10.7</td>\n",
       "      <td>0</td>\n",
       "      <td>0</td>\n",
       "      <td>green</td>\n",
       "      <td>2</td>\n",
       "      <td>November 15th, 2023</td>\n",
       "      <td>Taiwan Coffee Laboratory 台灣咖啡研究室</td>\n",
       "      <td>QAHWAH CO., LTD 4F, No. 225, Sec. 3, Beixin Rd...</td>\n",
       "      <td>Lin, Jen-An Neil 林仁安 - 886-289116612</td>\n",
       "    </tr>\n",
       "    <tr>\n",
       "      <th>6</th>\n",
       "      <td>6</td>\n",
       "      <td>6</td>\n",
       "      <td>Taiwan</td>\n",
       "      <td>野牡丹咖啡莊園 Melastoma Coffee Estate</td>\n",
       "      <td>The 2022 Pacific Rim Coffee Summit,T034</td>\n",
       "      <td>野牡丹咖啡</td>\n",
       "      <td>NaN</td>\n",
       "      <td>Taiwan Coffee Laboratory</td>\n",
       "      <td>1250</td>\n",
       "      <td>Chiayi</td>\n",
       "      <td>...</td>\n",
       "      <td>86.92</td>\n",
       "      <td>9.1</td>\n",
       "      <td>0</td>\n",
       "      <td>0</td>\n",
       "      <td>green</td>\n",
       "      <td>0</td>\n",
       "      <td>November 15th, 2023</td>\n",
       "      <td>Taiwan Coffee Laboratory 台灣咖啡研究室</td>\n",
       "      <td>QAHWAH CO., LTD 4F, No. 225, Sec. 3, Beixin Rd...</td>\n",
       "      <td>Lin, Jen-An Neil 林仁安 - 886-289116612</td>\n",
       "    </tr>\n",
       "    <tr>\n",
       "      <th>7</th>\n",
       "      <td>7</td>\n",
       "      <td>7</td>\n",
       "      <td>Taiwan</td>\n",
       "      <td>七彩琉璃咖啡莊園 Chi Tsai Liu Li Ecological Farm</td>\n",
       "      <td>The 2022 Pacific Rim Coffee Summit,T050</td>\n",
       "      <td>七彩琉璃咖啡莊園</td>\n",
       "      <td>NaN</td>\n",
       "      <td>Taiwan Coffee Laboratory</td>\n",
       "      <td>1200</td>\n",
       "      <td>Chiayi</td>\n",
       "      <td>...</td>\n",
       "      <td>86.75</td>\n",
       "      <td>10.0</td>\n",
       "      <td>0</td>\n",
       "      <td>0</td>\n",
       "      <td>yellow green</td>\n",
       "      <td>1</td>\n",
       "      <td>November 15th, 2023</td>\n",
       "      <td>Taiwan Coffee Laboratory 台灣咖啡研究室</td>\n",
       "      <td>QAHWAH CO., LTD 4F, No. 225, Sec. 3, Beixin Rd...</td>\n",
       "      <td>Lin, Jen-An Neil 林仁安 - 886-289116612</td>\n",
       "    </tr>\n",
       "    <tr>\n",
       "      <th>8</th>\n",
       "      <td>8</td>\n",
       "      <td>8</td>\n",
       "      <td>Taiwan</td>\n",
       "      <td>亮軒咖啡莊園 Liang Xuan Coffee Farm</td>\n",
       "      <td>The 2022 Pacific Rim Coffee Summit,T018</td>\n",
       "      <td>亮軒咖啡莊園</td>\n",
       "      <td>NaN</td>\n",
       "      <td>Taiwan Coffee Laboratory</td>\n",
       "      <td>1250</td>\n",
       "      <td>Chiayi</td>\n",
       "      <td>...</td>\n",
       "      <td>86.67</td>\n",
       "      <td>10.8</td>\n",
       "      <td>0</td>\n",
       "      <td>0</td>\n",
       "      <td>greenish</td>\n",
       "      <td>0</td>\n",
       "      <td>November 15th, 2023</td>\n",
       "      <td>Taiwan Coffee Laboratory 台灣咖啡研究室</td>\n",
       "      <td>QAHWAH CO., LTD 4F, No. 225, Sec. 3, Beixin Rd...</td>\n",
       "      <td>Lin, Jen-An Neil 林仁安 - 886-289116612</td>\n",
       "    </tr>\n",
       "    <tr>\n",
       "      <th>9</th>\n",
       "      <td>9</td>\n",
       "      <td>9</td>\n",
       "      <td>Tanzania, United Republic Of</td>\n",
       "      <td>MASHIMA AMCOS</td>\n",
       "      <td>CN 4127230034/4189230113</td>\n",
       "      <td>GOURMET COFFEE MILL</td>\n",
       "      <td>033/DE/503/002 and 033/DE/268/002</td>\n",
       "      <td>DORMAN (T) LIMITED</td>\n",
       "      <td>1400-1700</td>\n",
       "      <td>KILIMANJARO</td>\n",
       "      <td>...</td>\n",
       "      <td>86.50</td>\n",
       "      <td>11.0</td>\n",
       "      <td>0</td>\n",
       "      <td>0</td>\n",
       "      <td>greenish</td>\n",
       "      <td>0</td>\n",
       "      <td>February 1st, 2024</td>\n",
       "      <td>Kenya Coffee Traders Association</td>\n",
       "      <td>P.O. Box 646 00100Nairobi, Kenya, Denniss Prit...</td>\n",
       "      <td>Benson Kibicho Kamau - +254 786 821 621</td>\n",
       "    </tr>\n",
       "  </tbody>\n",
       "</table>\n",
       "<p>10 rows × 41 columns</p>\n",
       "</div>"
      ],
      "text/plain": [
       "   Unnamed: 0  ID             Country of Origin  \\\n",
       "0           0   0                      Colombia   \n",
       "1           1   1                        Taiwan   \n",
       "2           2   2                          Laos   \n",
       "3           3   3                    Costa Rica   \n",
       "4           4   4                      Colombia   \n",
       "5           5   5                     Guatemala   \n",
       "6           6   6                        Taiwan   \n",
       "7           7   7                        Taiwan   \n",
       "8           8   8                        Taiwan   \n",
       "9           9   9  Tanzania, United Republic Of   \n",
       "\n",
       "                                  Farm Name  \\\n",
       "0                          Finca El Paraiso   \n",
       "1                  Royal Bean Geisha Estate   \n",
       "2                        OKLAO coffee farms   \n",
       "3                                 La Cumbre   \n",
       "4                           Finca Santuario   \n",
       "5                                 La Colina   \n",
       "6           野牡丹咖啡莊園 Melastoma Coffee Estate   \n",
       "7  七彩琉璃咖啡莊園 Chi Tsai Liu Li Ecological Farm   \n",
       "8             亮軒咖啡莊園 Liang Xuan Coffee Farm   \n",
       "9                             MASHIMA AMCOS   \n",
       "\n",
       "                                Lot Number                           Mill  \\\n",
       "0                               CQU2022015               Finca El Paraiso   \n",
       "1  The 2022 Pacific Rim Coffee Summit,T037       Royal Bean Geisha Estate   \n",
       "2  The 2022 Pacific Rim Coffee Summit,LA01  oklao coffee processing plant   \n",
       "3                               CQU2022017        La Montana Tarrazu MIll   \n",
       "4                               CQU2023002                Finca Santuario   \n",
       "5  The 2022 Pacific Rim Coffee Summit,GT02                  Dinámica Café   \n",
       "6  The 2022 Pacific Rim Coffee Summit,T034                          野牡丹咖啡   \n",
       "7  The 2022 Pacific Rim Coffee Summit,T050                       七彩琉璃咖啡莊園   \n",
       "8  The 2022 Pacific Rim Coffee Summit,T018                         亮軒咖啡莊園   \n",
       "9                 CN 4127230034/4189230113            GOURMET COFFEE MILL   \n",
       "\n",
       "                          ICO Number                   Company   Altitude  \\\n",
       "0                                NaN      Coffee Quality Union  1700-1930   \n",
       "1                                NaN  Taiwan Coffee Laboratory       1200   \n",
       "2                                NaN  Taiwan Coffee Laboratory       1300   \n",
       "3                                NaN      Coffee Quality Union       1900   \n",
       "4                                NaN      Coffee Quality Union  1850-2100   \n",
       "5                                NaN  Taiwan Coffee Laboratory       1668   \n",
       "6                                NaN  Taiwan Coffee Laboratory       1250   \n",
       "7                                NaN  Taiwan Coffee Laboratory       1200   \n",
       "8                                NaN  Taiwan Coffee Laboratory       1250   \n",
       "9  033/DE/503/002 and 033/DE/268/002        DORMAN (T) LIMITED  1400-1700   \n",
       "\n",
       "                 Region  ... Total Cup Points  Moisture Percentage  \\\n",
       "0        Piendamo,Cauca  ...            89.33                 11.8   \n",
       "1                Chiayi  ...            87.58                 10.5   \n",
       "2  Laos Borofen Plateau  ...            87.42                 10.4   \n",
       "3    Los Santos,Tarrazu  ...            87.17                 11.8   \n",
       "4         Popayan,Cauca  ...            87.08                 11.6   \n",
       "5         Chimaltenango  ...            87.00                 10.7   \n",
       "6                Chiayi  ...            86.92                  9.1   \n",
       "7                Chiayi  ...            86.75                 10.0   \n",
       "8                Chiayi  ...            86.67                 10.8   \n",
       "9           KILIMANJARO  ...            86.50                 11.0   \n",
       "\n",
       "  Category One Defects Quakers         Color Category Two Defects  \\\n",
       "0                    0       0         green                    3   \n",
       "1                    0       0    blue-green                    0   \n",
       "2                    0       0     yellowish                    2   \n",
       "3                    0       0         green                    0   \n",
       "4                    0       2  yellow-green                    2   \n",
       "5                    0       0         green                    2   \n",
       "6                    0       0         green                    0   \n",
       "7                    0       0  yellow green                    1   \n",
       "8                    0       0      greenish                    0   \n",
       "9                    0       0      greenish                    0   \n",
       "\n",
       "             Expiration                Certification Body  \\\n",
       "0  September 21st, 2023             Japan Coffee Exchange   \n",
       "1   November 15th, 2023  Taiwan Coffee Laboratory 台灣咖啡研究室   \n",
       "2   November 15th, 2023  Taiwan Coffee Laboratory 台灣咖啡研究室   \n",
       "3  September 21st, 2023             Japan Coffee Exchange   \n",
       "4       March 5th, 2024             Japan Coffee Exchange   \n",
       "5   November 15th, 2023  Taiwan Coffee Laboratory 台灣咖啡研究室   \n",
       "6   November 15th, 2023  Taiwan Coffee Laboratory 台灣咖啡研究室   \n",
       "7   November 15th, 2023  Taiwan Coffee Laboratory 台灣咖啡研究室   \n",
       "8   November 15th, 2023  Taiwan Coffee Laboratory 台灣咖啡研究室   \n",
       "9    February 1st, 2024  Kenya Coffee Traders Association   \n",
       "\n",
       "                               Certification Address  \\\n",
       "0  〒413-0002 静岡県熱海市伊豆山１１７３−５８ 1173-58 Izusan, Ata...   \n",
       "1  QAHWAH CO., LTD 4F, No. 225, Sec. 3, Beixin Rd...   \n",
       "2  QAHWAH CO., LTD 4F, No. 225, Sec. 3, Beixin Rd...   \n",
       "3  〒413-0002 静岡県熱海市伊豆山１１７３−５８ 1173-58 Izusan, Ata...   \n",
       "4  〒413-0002 静岡県熱海市伊豆山１１７３−５８ 1173-58 Izusan, Ata...   \n",
       "5  QAHWAH CO., LTD 4F, No. 225, Sec. 3, Beixin Rd...   \n",
       "6  QAHWAH CO., LTD 4F, No. 225, Sec. 3, Beixin Rd...   \n",
       "7  QAHWAH CO., LTD 4F, No. 225, Sec. 3, Beixin Rd...   \n",
       "8  QAHWAH CO., LTD 4F, No. 225, Sec. 3, Beixin Rd...   \n",
       "9  P.O. Box 646 00100Nairobi, Kenya, Denniss Prit...   \n",
       "\n",
       "                     Certification Contact  \n",
       "0  松澤　宏樹　Koju Matsuzawa - +81(0)9085642901  \n",
       "1     Lin, Jen-An Neil 林仁安 - 886-289116612  \n",
       "2     Lin, Jen-An Neil 林仁安 - 886-289116612  \n",
       "3  松澤　宏樹　Koju Matsuzawa - +81(0)9085642901  \n",
       "4  松澤　宏樹　Koju Matsuzawa - +81(0)9085642901  \n",
       "5     Lin, Jen-An Neil 林仁安 - 886-289116612  \n",
       "6     Lin, Jen-An Neil 林仁安 - 886-289116612  \n",
       "7     Lin, Jen-An Neil 林仁安 - 886-289116612  \n",
       "8     Lin, Jen-An Neil 林仁安 - 886-289116612  \n",
       "9  Benson Kibicho Kamau - +254 786 821 621  \n",
       "\n",
       "[10 rows x 41 columns]"
      ]
     },
     "execution_count": 87,
     "metadata": {},
     "output_type": "execute_result"
    }
   ],
   "source": [
    "dataset = pd.read_csv(r\"df_arabica_clean.csv\", delimiter=\",\")\n",
    "\n",
    "(dataset.head(10))"
   ]
  },
  {
   "cell_type": "code",
   "execution_count": 88,
   "id": "699aad8b",
   "metadata": {},
   "outputs": [
    {
     "data": {
      "text/html": [
       "<div>\n",
       "<style scoped>\n",
       "    .dataframe tbody tr th:only-of-type {\n",
       "        vertical-align: middle;\n",
       "    }\n",
       "\n",
       "    .dataframe tbody tr th {\n",
       "        vertical-align: top;\n",
       "    }\n",
       "\n",
       "    .dataframe thead th {\n",
       "        text-align: right;\n",
       "    }\n",
       "</style>\n",
       "<table border=\"1\" class=\"dataframe\">\n",
       "  <thead>\n",
       "    <tr style=\"text-align: right;\">\n",
       "      <th></th>\n",
       "      <th>Unnamed: 0</th>\n",
       "      <th>ID</th>\n",
       "      <th>Number of Bags</th>\n",
       "      <th>Aroma</th>\n",
       "      <th>Flavor</th>\n",
       "      <th>Aftertaste</th>\n",
       "      <th>Acidity</th>\n",
       "      <th>Body</th>\n",
       "      <th>Balance</th>\n",
       "      <th>Uniformity</th>\n",
       "      <th>Clean Cup</th>\n",
       "      <th>Sweetness</th>\n",
       "      <th>Overall</th>\n",
       "      <th>Defects</th>\n",
       "      <th>Total Cup Points</th>\n",
       "      <th>Moisture Percentage</th>\n",
       "      <th>Category One Defects</th>\n",
       "      <th>Quakers</th>\n",
       "      <th>Category Two Defects</th>\n",
       "    </tr>\n",
       "  </thead>\n",
       "  <tbody>\n",
       "    <tr>\n",
       "      <th>count</th>\n",
       "      <td>207.000000</td>\n",
       "      <td>207.000000</td>\n",
       "      <td>207.000000</td>\n",
       "      <td>207.000000</td>\n",
       "      <td>207.000000</td>\n",
       "      <td>207.000000</td>\n",
       "      <td>207.00000</td>\n",
       "      <td>207.000000</td>\n",
       "      <td>207.000000</td>\n",
       "      <td>207.000000</td>\n",
       "      <td>207.0</td>\n",
       "      <td>207.0</td>\n",
       "      <td>207.000000</td>\n",
       "      <td>207.0</td>\n",
       "      <td>207.000000</td>\n",
       "      <td>207.000000</td>\n",
       "      <td>207.000000</td>\n",
       "      <td>207.000000</td>\n",
       "      <td>207.000000</td>\n",
       "    </tr>\n",
       "    <tr>\n",
       "      <th>mean</th>\n",
       "      <td>103.000000</td>\n",
       "      <td>103.000000</td>\n",
       "      <td>155.449275</td>\n",
       "      <td>7.721063</td>\n",
       "      <td>7.744734</td>\n",
       "      <td>7.599758</td>\n",
       "      <td>7.69029</td>\n",
       "      <td>7.640918</td>\n",
       "      <td>7.644058</td>\n",
       "      <td>9.990338</td>\n",
       "      <td>10.0</td>\n",
       "      <td>10.0</td>\n",
       "      <td>7.676812</td>\n",
       "      <td>0.0</td>\n",
       "      <td>83.706570</td>\n",
       "      <td>10.735266</td>\n",
       "      <td>0.135266</td>\n",
       "      <td>0.690821</td>\n",
       "      <td>2.251208</td>\n",
       "    </tr>\n",
       "    <tr>\n",
       "      <th>std</th>\n",
       "      <td>59.899917</td>\n",
       "      <td>59.899917</td>\n",
       "      <td>244.484868</td>\n",
       "      <td>0.287626</td>\n",
       "      <td>0.279613</td>\n",
       "      <td>0.275911</td>\n",
       "      <td>0.25951</td>\n",
       "      <td>0.233499</td>\n",
       "      <td>0.256299</td>\n",
       "      <td>0.103306</td>\n",
       "      <td>0.0</td>\n",
       "      <td>0.0</td>\n",
       "      <td>0.306359</td>\n",
       "      <td>0.0</td>\n",
       "      <td>1.730417</td>\n",
       "      <td>1.247468</td>\n",
       "      <td>0.592070</td>\n",
       "      <td>1.686918</td>\n",
       "      <td>2.950183</td>\n",
       "    </tr>\n",
       "    <tr>\n",
       "      <th>min</th>\n",
       "      <td>0.000000</td>\n",
       "      <td>0.000000</td>\n",
       "      <td>1.000000</td>\n",
       "      <td>6.500000</td>\n",
       "      <td>6.750000</td>\n",
       "      <td>6.670000</td>\n",
       "      <td>6.83000</td>\n",
       "      <td>6.830000</td>\n",
       "      <td>6.670000</td>\n",
       "      <td>8.670000</td>\n",
       "      <td>10.0</td>\n",
       "      <td>10.0</td>\n",
       "      <td>6.670000</td>\n",
       "      <td>0.0</td>\n",
       "      <td>78.000000</td>\n",
       "      <td>0.000000</td>\n",
       "      <td>0.000000</td>\n",
       "      <td>0.000000</td>\n",
       "      <td>0.000000</td>\n",
       "    </tr>\n",
       "    <tr>\n",
       "      <th>25%</th>\n",
       "      <td>51.500000</td>\n",
       "      <td>51.500000</td>\n",
       "      <td>1.000000</td>\n",
       "      <td>7.580000</td>\n",
       "      <td>7.580000</td>\n",
       "      <td>7.420000</td>\n",
       "      <td>7.50000</td>\n",
       "      <td>7.500000</td>\n",
       "      <td>7.500000</td>\n",
       "      <td>10.000000</td>\n",
       "      <td>10.0</td>\n",
       "      <td>10.0</td>\n",
       "      <td>7.500000</td>\n",
       "      <td>0.0</td>\n",
       "      <td>82.580000</td>\n",
       "      <td>10.100000</td>\n",
       "      <td>0.000000</td>\n",
       "      <td>0.000000</td>\n",
       "      <td>0.000000</td>\n",
       "    </tr>\n",
       "    <tr>\n",
       "      <th>50%</th>\n",
       "      <td>103.000000</td>\n",
       "      <td>103.000000</td>\n",
       "      <td>14.000000</td>\n",
       "      <td>7.670000</td>\n",
       "      <td>7.750000</td>\n",
       "      <td>7.580000</td>\n",
       "      <td>7.67000</td>\n",
       "      <td>7.670000</td>\n",
       "      <td>7.670000</td>\n",
       "      <td>10.000000</td>\n",
       "      <td>10.0</td>\n",
       "      <td>10.0</td>\n",
       "      <td>7.670000</td>\n",
       "      <td>0.0</td>\n",
       "      <td>83.750000</td>\n",
       "      <td>10.800000</td>\n",
       "      <td>0.000000</td>\n",
       "      <td>0.000000</td>\n",
       "      <td>1.000000</td>\n",
       "    </tr>\n",
       "    <tr>\n",
       "      <th>75%</th>\n",
       "      <td>154.500000</td>\n",
       "      <td>154.500000</td>\n",
       "      <td>275.000000</td>\n",
       "      <td>7.920000</td>\n",
       "      <td>7.920000</td>\n",
       "      <td>7.750000</td>\n",
       "      <td>7.87500</td>\n",
       "      <td>7.750000</td>\n",
       "      <td>7.790000</td>\n",
       "      <td>10.000000</td>\n",
       "      <td>10.0</td>\n",
       "      <td>10.0</td>\n",
       "      <td>7.920000</td>\n",
       "      <td>0.0</td>\n",
       "      <td>84.830000</td>\n",
       "      <td>11.500000</td>\n",
       "      <td>0.000000</td>\n",
       "      <td>1.000000</td>\n",
       "      <td>3.000000</td>\n",
       "    </tr>\n",
       "    <tr>\n",
       "      <th>max</th>\n",
       "      <td>206.000000</td>\n",
       "      <td>206.000000</td>\n",
       "      <td>2240.000000</td>\n",
       "      <td>8.580000</td>\n",
       "      <td>8.500000</td>\n",
       "      <td>8.420000</td>\n",
       "      <td>8.58000</td>\n",
       "      <td>8.250000</td>\n",
       "      <td>8.420000</td>\n",
       "      <td>10.000000</td>\n",
       "      <td>10.0</td>\n",
       "      <td>10.0</td>\n",
       "      <td>8.580000</td>\n",
       "      <td>0.0</td>\n",
       "      <td>89.330000</td>\n",
       "      <td>13.500000</td>\n",
       "      <td>5.000000</td>\n",
       "      <td>12.000000</td>\n",
       "      <td>16.000000</td>\n",
       "    </tr>\n",
       "  </tbody>\n",
       "</table>\n",
       "</div>"
      ],
      "text/plain": [
       "       Unnamed: 0          ID  Number of Bags       Aroma      Flavor  \\\n",
       "count  207.000000  207.000000      207.000000  207.000000  207.000000   \n",
       "mean   103.000000  103.000000      155.449275    7.721063    7.744734   \n",
       "std     59.899917   59.899917      244.484868    0.287626    0.279613   \n",
       "min      0.000000    0.000000        1.000000    6.500000    6.750000   \n",
       "25%     51.500000   51.500000        1.000000    7.580000    7.580000   \n",
       "50%    103.000000  103.000000       14.000000    7.670000    7.750000   \n",
       "75%    154.500000  154.500000      275.000000    7.920000    7.920000   \n",
       "max    206.000000  206.000000     2240.000000    8.580000    8.500000   \n",
       "\n",
       "       Aftertaste    Acidity        Body     Balance  Uniformity  Clean Cup  \\\n",
       "count  207.000000  207.00000  207.000000  207.000000  207.000000      207.0   \n",
       "mean     7.599758    7.69029    7.640918    7.644058    9.990338       10.0   \n",
       "std      0.275911    0.25951    0.233499    0.256299    0.103306        0.0   \n",
       "min      6.670000    6.83000    6.830000    6.670000    8.670000       10.0   \n",
       "25%      7.420000    7.50000    7.500000    7.500000   10.000000       10.0   \n",
       "50%      7.580000    7.67000    7.670000    7.670000   10.000000       10.0   \n",
       "75%      7.750000    7.87500    7.750000    7.790000   10.000000       10.0   \n",
       "max      8.420000    8.58000    8.250000    8.420000   10.000000       10.0   \n",
       "\n",
       "       Sweetness     Overall  Defects  Total Cup Points  Moisture Percentage  \\\n",
       "count      207.0  207.000000    207.0        207.000000           207.000000   \n",
       "mean        10.0    7.676812      0.0         83.706570            10.735266   \n",
       "std          0.0    0.306359      0.0          1.730417             1.247468   \n",
       "min         10.0    6.670000      0.0         78.000000             0.000000   \n",
       "25%         10.0    7.500000      0.0         82.580000            10.100000   \n",
       "50%         10.0    7.670000      0.0         83.750000            10.800000   \n",
       "75%         10.0    7.920000      0.0         84.830000            11.500000   \n",
       "max         10.0    8.580000      0.0         89.330000            13.500000   \n",
       "\n",
       "       Category One Defects     Quakers  Category Two Defects  \n",
       "count            207.000000  207.000000            207.000000  \n",
       "mean               0.135266    0.690821              2.251208  \n",
       "std                0.592070    1.686918              2.950183  \n",
       "min                0.000000    0.000000              0.000000  \n",
       "25%                0.000000    0.000000              0.000000  \n",
       "50%                0.000000    0.000000              1.000000  \n",
       "75%                0.000000    1.000000              3.000000  \n",
       "max                5.000000   12.000000             16.000000  "
      ]
     },
     "execution_count": 88,
     "metadata": {},
     "output_type": "execute_result"
    }
   ],
   "source": [
    "(dataset.describe())"
   ]
  },
  {
   "cell_type": "markdown",
   "id": "7b7102fb-7e17-472a-b346-97bad8bcbbe8",
   "metadata": {},
   "source": [
    "__1) Em algum dataset, classifique as suas colunas em Quantitativa Discreta, Quantitiva Contínua, Qualitativa Ordinal ou Qualitativa Nominal.__\n"
   ]
  },
  {
   "cell_type": "code",
   "execution_count": 89,
   "id": "ecab1a38-b586-4900-8caa-cc88666d03da",
   "metadata": {},
   "outputs": [
    {
     "data": {
      "text/plain": [
       "Index(['Unnamed: 0', 'ID', 'Country of Origin', 'Farm Name', 'Lot Number',\n",
       "       'Mill', 'ICO Number', 'Company', 'Altitude', 'Region', 'Producer',\n",
       "       'Number of Bags', 'Bag Weight', 'In-Country Partner', 'Harvest Year',\n",
       "       'Grading Date', 'Owner', 'Variety', 'Status', 'Processing Method',\n",
       "       'Aroma', 'Flavor', 'Aftertaste', 'Acidity', 'Body', 'Balance',\n",
       "       'Uniformity', 'Clean Cup', 'Sweetness', 'Overall', 'Defects',\n",
       "       'Total Cup Points', 'Moisture Percentage', 'Category One Defects',\n",
       "       'Quakers', 'Color', 'Category Two Defects', 'Expiration',\n",
       "       'Certification Body', 'Certification Address', 'Certification Contact'],\n",
       "      dtype='object')"
      ]
     },
     "execution_count": 89,
     "metadata": {},
     "output_type": "execute_result"
    }
   ],
   "source": [
    "(dataset.columns)"
   ]
  },
  {
   "cell_type": "markdown",
   "id": "83e4aa04",
   "metadata": {},
   "source": [
    "## Colunas Principais: Classificação\n",
    "\n",
    "| Coluna | Classificação |\n",
    "|:------:|:-------------:|\n",
    "| Country of Origin | Qualitativa Nominal |\n",
    "| Farm Name | Qualitativa Nominal |\n",
    "| Lot Number | Qualitativa Ordinal |\n",
    "| Company | Qualitativa Nominal |\n",
    "| Altitude | *Quantitativa Contínua* |\n",
    "| Region | Qualitativa Nominal |\n",
    "| Producer | Qualitativa Nominal |\n",
    "| Number of Bags | *Quantitativa Discreta* |\n",
    "| Bag Weight | *Quantitativa Contínua* |\n",
    "| Harvest Year | *Quantitativa Discreta* |\n",
    "| Variety | Qualitativa Nominal |\n",
    "| Processing Method | Qualitativa Nominal |\n",
    "| Aroma | *Quantitativa Discreta* |\n",
    "| Flavor | *Quantitativa Discreta* |\n",
    "| Aftertaste | *Quantitativa Discreta* |\n",
    "| Acidity | *Quantitativa Discreta* |\n",
    "| Body | *Quantitativa Discreta* |\n",
    "| Balance | *Quantitativa Discreta* |\n",
    "| Uniformity | *Quantitativa Discreta* |\n",
    "| Clean Cup | *Quantitativa Discreta* |\n",
    "| Sweetness | *Quantitativa Discreta* |\n",
    "| Overall | *Quantitativa Discreta* |\n",
    "| Defects | *Quantitativa Contínua* |\n",
    "| Total Cup Points | *Quantitativa Discreta* |\n",
    "| Moisture Percentage | *Quantitativa Discreta* |\n",
    "| Category One Defects | *Quantitativa Contínua* |\n",
    "| Quakers | *Quantitativa Contínua* |\n",
    "| Color | Qualitativa Nominal |\n",
    "| Category Two Defects | *Quantitativa Contínua* |\n",
    "| Expiration | Qualitativa Ordinal |"
   ]
  },
  {
   "cell_type": "markdown",
   "id": "78792baf-97bd-4f56-b6b7-171f1c3cb174",
   "metadata": {},
   "source": [
    "- **2.1) Com o mesmo dataset, construir a distribuição de probabilidade de uma feature com valores inteiros.**\n",
    "- **2.2) Escrever uma função para calcular a Esperança e outra função para calcular a Variância dessa variável aleatória.** \n",
    "- **2.3) Compare o resultado de sua função com os resultados de alguma nativa do Python (há muitos módulos/bibliotecas que calculam esses parâmetros).**\n",
    "- **2.4) Construa uma função que faça o papel da cdf() e outra função com o papel da sf().**\n",
    "- **Desafio extra:** _construir funções que fazem o papel da ppf() e da isf()._"
   ]
  },
  {
   "cell_type": "code",
   "execution_count": 90,
   "id": "f05070bd",
   "metadata": {},
   "outputs": [
    {
     "data": {
      "text/plain": [
       "array([89.33, 87.58, 87.42, 87.17, 87.08, 87.  , 86.92, 86.75, 86.67,\n",
       "       86.5 , 86.25, 86.17, 86.08, 85.92, 85.83, 85.75, 85.67, 85.58,\n",
       "       85.5 , 85.42, 85.33, 85.25, 85.17, 85.08, 85.  , 84.92, 84.83,\n",
       "       84.75, 84.67, 84.58, 84.5 , 84.42, 84.33, 84.25, 84.17, 84.08,\n",
       "       84.  , 83.92, 83.83, 83.75, 83.67, 83.58, 83.5 , 83.42, 83.33,\n",
       "       83.25, 83.17, 83.08, 83.  , 82.92, 82.83, 82.75, 82.67, 82.58,\n",
       "       82.5 , 82.42, 82.33, 82.25, 82.17, 82.08, 82.  , 81.92, 81.83,\n",
       "       81.75, 81.67, 81.58, 81.5 , 81.42, 81.33, 81.17, 81.  , 80.83,\n",
       "       80.5 , 80.42, 80.33, 80.17, 80.08, 80.  , 79.67, 78.08, 78.  ])"
      ]
     },
     "execution_count": 90,
     "metadata": {},
     "output_type": "execute_result"
    }
   ],
   "source": [
    "dataset['Total Cup Points'].unique()\n"
   ]
  },
  {
   "cell_type": "code",
   "execution_count": 91,
   "id": "0089d4bb",
   "metadata": {},
   "outputs": [
    {
     "data": {
      "text/plain": [
       "count    207.000000\n",
       "mean      83.706570\n",
       "std        1.730417\n",
       "min       78.000000\n",
       "25%       82.580000\n",
       "50%       83.750000\n",
       "75%       84.830000\n",
       "max       89.330000\n",
       "Name: Total Cup Points, dtype: float64"
      ]
     },
     "execution_count": 91,
     "metadata": {},
     "output_type": "execute_result"
    }
   ],
   "source": [
    "dataset['Total Cup Points'].describe()"
   ]
  },
  {
   "cell_type": "code",
   "execution_count": 102,
   "id": "af203ddd-6358-49e6-bf90-84743fbb1bb4",
   "metadata": {},
   "outputs": [
    {
     "name": "stdout",
     "output_type": "stream",
     "text": [
      "Rounded_Total_Cup_Points\n",
      "84.0    0.236715\n",
      "85.0    0.188406\n",
      "83.0    0.188406\n",
      "82.0    0.164251\n",
      "86.0    0.096618\n",
      "80.0    0.043478\n",
      "87.0    0.033816\n",
      "81.0    0.028986\n",
      "78.0    0.009662\n",
      "89.0    0.004831\n",
      "88.0    0.004831\n",
      "Name: count, dtype: float64\n"
     ]
    }
   ],
   "source": [
    "# Escolhendo a feature\n",
    "dataset['Rounded_Total_Cup_Points'] = dataset['Total Cup Points'].round()\n",
    "\n",
    "value_counts = dataset[\"Rounded_Total_Cup_Points\"].value_counts()\n",
    "probabilities = value_counts / value_counts.sum()\n",
    "\n",
    "print(probabilities)"
   ]
  },
  {
   "cell_type": "code",
   "execution_count": 103,
   "id": "8486201d",
   "metadata": {},
   "outputs": [
    {
     "data": {
      "text/plain": [
       "Rounded_Total_Cup_Points\n",
       "84.0    49\n",
       "85.0    39\n",
       "83.0    39\n",
       "82.0    34\n",
       "86.0    20\n",
       "80.0     9\n",
       "87.0     7\n",
       "81.0     6\n",
       "78.0     2\n",
       "89.0     1\n",
       "88.0     1\n",
       "Name: count, dtype: int64"
      ]
     },
     "execution_count": 103,
     "metadata": {},
     "output_type": "execute_result"
    }
   ],
   "source": [
    "value_counts"
   ]
  },
  {
   "cell_type": "code",
   "execution_count": 104,
   "id": "690343e2",
   "metadata": {},
   "outputs": [],
   "source": [
    "# Calcular Esperança da Variável\n",
    "# soma do produto de cada probabilidade de saida, pelo respectivo valor\n",
    "from numpy.typing import ArrayLike\n",
    "\n",
    "def esperanca(prob_arr: ArrayLike, value_arr: ArrayLike, exp: int = 1):\n",
    "    return sum([prob * value ** exp for prob, value in zip(prob_arr, value_arr)])"
   ]
  },
  {
   "cell_type": "code",
   "execution_count": 105,
   "id": "8ef117b8",
   "metadata": {},
   "outputs": [],
   "source": [
    "# Calcular Variancia da Variavel, utilizando a esperança\n",
    "from numpy.typing import ArrayLike\n",
    "\n",
    "def variancia(prob_arr: ArrayLike, value_arr: ArrayLike):\n",
    "    return esperanca(prob_arr, value_arr, exp=2) - (esperanca(prob_arr, value_arr)) ** 2"
   ]
  },
  {
   "cell_type": "code",
   "execution_count": 106,
   "id": "be3c5491",
   "metadata": {},
   "outputs": [
    {
     "name": "stdout",
     "output_type": "stream",
     "text": [
      "Esperança: 83.69082125603865\n",
      "Variancia: 3.13\n"
     ]
    }
   ],
   "source": [
    "count = 207\n",
    "\n",
    "\n",
    "values = [84, 85, 83, 82, 86, 80, 87, 81, 78, 89, 88]\n",
    "counts = [49, 39, 39, 34, 20, 9, 7, 6, 2, 1, 1]\n",
    "probabilites = [x/count for x in counts]\n",
    "\n",
    "np_prob = np.array(probabilities)\n",
    "np_values = np.array(values)\n",
    "\n",
    "print(f\"Esperança: {esperanca(prob_arr=np_prob, value_arr=np_values)}\")\n",
    "print(f\"Variancia: {variancia(prob_arr=np_prob, value_arr=np_values):.2f}\")"
   ]
  },
  {
   "cell_type": "code",
   "execution_count": 107,
   "id": "618cc96f",
   "metadata": {},
   "outputs": [
    {
     "name": "stdout",
     "output_type": "stream",
     "text": [
      "Esperança: 83.70657004830917\n",
      "Variancia: 2.98\n"
     ]
    }
   ],
   "source": [
    "np_ratings = np.array(dataset['Total Cup Points'])\n",
    "\n",
    "print(f\"Esperança: {np.mean(np_ratings)}\")\n",
    "print(f\"Variancia: {np.var(np_ratings):.2f}\")"
   ]
  },
  {
   "cell_type": "code",
   "execution_count": null,
   "id": "a37ee6ef",
   "metadata": {},
   "outputs": [],
   "source": []
  },
  {
   "cell_type": "markdown",
   "id": "6821c75f-1bd1-4911-a71f-a9802a85203c",
   "metadata": {},
   "source": [
    " __3) Utilizando a variável aleatória do exercício anterior, construir a distribuição das médias amostrais para ilustrar/comprovar o Teorema do Limite Central. Comparar a média e a variância com o exercício anterior. Utilizar o teste de normalidade para verificar se essa distribuição (das médias amostrais) é normal ou  não.__\n"
   ]
  },
  {
   "cell_type": "code",
   "execution_count": 108,
   "id": "7f7e1854-6d31-43d2-9751-a7feaa93b3c6",
   "metadata": {},
   "outputs": [],
   "source": [
    "# Bibliotecas\n",
    "import numpy.random as nprd\n",
    "import plotly.express as px\n",
    "# import plotly.io as pio\n",
    "import seaborn as sns\n",
    "from sklearn.utils import resample\n",
    "from scipy import stats"
   ]
  },
  {
   "cell_type": "code",
   "execution_count": 109,
   "id": "ab778fdd",
   "metadata": {},
   "outputs": [
    {
     "name": "stdout",
     "output_type": "stream",
     "text": [
      "[84.33 83.92 82.58 84.83 84.   89.33 81.75 84.08 85.25 81.83]\n",
      "Média da Amostra: 84.19\n"
     ]
    }
   ],
   "source": [
    "total_cup_scores = dataset['Total Cup Points']\n",
    "\n",
    "cup_scores = nprd.choice(total_cup_scores, size=10, replace=False)\n",
    "\n",
    "print(cup_scores)\n",
    "print(f\"Média da Amostra: {cup_scores.mean()}\")"
   ]
  },
  {
   "cell_type": "code",
   "execution_count": 110,
   "id": "69e23871",
   "metadata": {},
   "outputs": [
    {
     "data": {
      "text/html": [
       "<div>\n",
       "<style scoped>\n",
       "    .dataframe tbody tr th:only-of-type {\n",
       "        vertical-align: middle;\n",
       "    }\n",
       "\n",
       "    .dataframe tbody tr th {\n",
       "        vertical-align: top;\n",
       "    }\n",
       "\n",
       "    .dataframe thead th {\n",
       "        text-align: right;\n",
       "    }\n",
       "</style>\n",
       "<table border=\"1\" class=\"dataframe\">\n",
       "  <thead>\n",
       "    <tr style=\"text-align: right;\">\n",
       "      <th></th>\n",
       "      <th>n</th>\n",
       "      <th>erro</th>\n",
       "    </tr>\n",
       "  </thead>\n",
       "  <tbody>\n",
       "    <tr>\n",
       "      <th>0</th>\n",
       "      <td>2</td>\n",
       "      <td>1.206570e+00</td>\n",
       "    </tr>\n",
       "    <tr>\n",
       "      <th>1</th>\n",
       "      <td>3</td>\n",
       "      <td>1.429903e+00</td>\n",
       "    </tr>\n",
       "    <tr>\n",
       "      <th>2</th>\n",
       "      <td>4</td>\n",
       "      <td>1.144070e+00</td>\n",
       "    </tr>\n",
       "    <tr>\n",
       "      <th>3</th>\n",
       "      <td>5</td>\n",
       "      <td>9.225700e-01</td>\n",
       "    </tr>\n",
       "    <tr>\n",
       "      <th>4</th>\n",
       "      <td>6</td>\n",
       "      <td>7.615700e-01</td>\n",
       "    </tr>\n",
       "    <tr>\n",
       "      <th>...</th>\n",
       "      <td>...</td>\n",
       "      <td>...</td>\n",
       "    </tr>\n",
       "    <tr>\n",
       "      <th>201</th>\n",
       "      <td>203</td>\n",
       "      <td>2.016611e-02</td>\n",
       "    </tr>\n",
       "    <tr>\n",
       "      <th>202</th>\n",
       "      <td>204</td>\n",
       "      <td>1.617789e-02</td>\n",
       "    </tr>\n",
       "    <tr>\n",
       "      <th>203</th>\n",
       "      <td>205</td>\n",
       "      <td>1.344810e-02</td>\n",
       "    </tr>\n",
       "    <tr>\n",
       "      <th>204</th>\n",
       "      <td>206</td>\n",
       "      <td>1.036068e-03</td>\n",
       "    </tr>\n",
       "    <tr>\n",
       "      <th>205</th>\n",
       "      <td>207</td>\n",
       "      <td>1.421085e-14</td>\n",
       "    </tr>\n",
       "  </tbody>\n",
       "</table>\n",
       "<p>206 rows × 2 columns</p>\n",
       "</div>"
      ],
      "text/plain": [
       "       n          erro\n",
       "0      2  1.206570e+00\n",
       "1      3  1.429903e+00\n",
       "2      4  1.144070e+00\n",
       "3      5  9.225700e-01\n",
       "4      6  7.615700e-01\n",
       "..   ...           ...\n",
       "201  203  2.016611e-02\n",
       "202  204  1.617789e-02\n",
       "203  205  1.344810e-02\n",
       "204  206  1.036068e-03\n",
       "205  207  1.421085e-14\n",
       "\n",
       "[206 rows x 2 columns]"
      ]
     },
     "execution_count": 110,
     "metadata": {},
     "output_type": "execute_result"
    }
   ],
   "source": [
    "df_samples = pd.DataFrame(columns=['n', 'erro'])\n",
    "pop_mean = dataset['Total Cup Points'].mean()\n",
    "\n",
    "for sample_size in range(2, dataset.shape[0] + 1):\n",
    "    total_cup_sample = dataset['Total Cup Points'].sample(n=sample_size, random_state=101)\n",
    "\n",
    "    sample_mean = total_cup_sample.mean()\n",
    "    erro = abs(pop_mean - sample_mean)\n",
    "\n",
    "    df_samples = pd.concat([df_samples, pd.DataFrame({'n': [sample_size], 'erro': [erro]})])\n",
    "\n",
    "\n",
    "# adicionando os index\n",
    "df_samples.index = (list(range((df_samples.shape[0]))))\n",
    "\n",
    "(df_samples)"
   ]
  },
  {
   "cell_type": "code",
   "execution_count": 111,
   "id": "f5332d39",
   "metadata": {},
   "outputs": [
    {
     "data": {
      "application/vnd.plotly.v1+json": {
       "config": {
        "plotlyServerURL": "https://plot.ly"
       },
       "data": [
        {
         "hovertemplate": "n=%{x}<br>erro=%{y}<extra></extra>",
         "legendgroup": "",
         "line": {
          "color": "#636efa",
          "dash": "solid"
         },
         "marker": {
          "symbol": "circle"
         },
         "mode": "lines",
         "name": "",
         "orientation": "v",
         "showlegend": false,
         "type": "scatter",
         "x": [
          2,
          3,
          4,
          5,
          6,
          7,
          8,
          9,
          10,
          11,
          12,
          13,
          14,
          15,
          16,
          17,
          18,
          19,
          20,
          21,
          22,
          23,
          24,
          25,
          26,
          27,
          28,
          29,
          30,
          31,
          32,
          33,
          34,
          35,
          36,
          37,
          38,
          39,
          40,
          41,
          42,
          43,
          44,
          45,
          46,
          47,
          48,
          49,
          50,
          51,
          52,
          53,
          54,
          55,
          56,
          57,
          58,
          59,
          60,
          61,
          62,
          63,
          64,
          65,
          66,
          67,
          68,
          69,
          70,
          71,
          72,
          73,
          74,
          75,
          76,
          77,
          78,
          79,
          80,
          81,
          82,
          83,
          84,
          85,
          86,
          87,
          88,
          89,
          90,
          91,
          92,
          93,
          94,
          95,
          96,
          97,
          98,
          99,
          100,
          101,
          102,
          103,
          104,
          105,
          106,
          107,
          108,
          109,
          110,
          111,
          112,
          113,
          114,
          115,
          116,
          117,
          118,
          119,
          120,
          121,
          122,
          123,
          124,
          125,
          126,
          127,
          128,
          129,
          130,
          131,
          132,
          133,
          134,
          135,
          136,
          137,
          138,
          139,
          140,
          141,
          142,
          143,
          144,
          145,
          146,
          147,
          148,
          149,
          150,
          151,
          152,
          153,
          154,
          155,
          156,
          157,
          158,
          159,
          160,
          161,
          162,
          163,
          164,
          165,
          166,
          167,
          168,
          169,
          170,
          171,
          172,
          173,
          174,
          175,
          176,
          177,
          178,
          179,
          180,
          181,
          182,
          183,
          184,
          185,
          186,
          187,
          188,
          189,
          190,
          191,
          192,
          193,
          194,
          195,
          196,
          197,
          198,
          199,
          200,
          201,
          202,
          203,
          204,
          205,
          206,
          207
         ],
         "xaxis": "x",
         "y": [
          1.2065700483091746,
          1.429903381642518,
          1.1440700483091746,
          0.9225700483091686,
          0.7615700483091672,
          0.7294271911663088,
          0.6015700483091706,
          0.36323671497584087,
          0.164570048309173,
          0.259297321036442,
          0.16490338164250318,
          0.10426235600147038,
          0.17728433402345445,
          0.21790338164250045,
          0.14969504830918368,
          0.11892298948565383,
          0.2071256038647391,
          0.11078057462498236,
          0.09057004830918913,
          0.020855762594905514,
          0.042520860781721126,
          0.008309178743985512,
          0.03884661835748204,
          0.07777004830917633,
          0.028108509847641017,
          0.014541062801924909,
          0.029070048309179697,
          0.1445010827919475,
          0.16890338164252228,
          0.10560230637369727,
          0.06969504830917117,
          0.17990338164250375,
          0.06539357772093979,
          0.009144237405109834,
          0.04073671497583575,
          0.03386734560646687,
          0.0186931095855698,
          0.021378669639545933,
          0.057429951690807,
          0.09562507364202588,
          0.0724775707384282,
          0.0852904168070836,
          0.054111769872633886,
          0.046541062801921385,
          0.09712560386472546,
          0.09960016445677411,
          0.07592995169083849,
          0.0650626047520575,
          0.05037004830916203,
          0.005981813015054627,
          0.012660720921601865,
          0.007136086045008483,
          0.055466988727872035,
          0.09761176987265685,
          0.16503709454795512,
          0.18483346046274107,
          0.173774779277025,
          0.14190452796199793,
          0.1860966183574817,
          0.1632660172645899,
          0.18552672588437247,
          0.18723947550033415,
          0.20967995169081632,
          0.22635302861390016,
          0.18949055775142654,
          0.10268368303410114,
          0.11769465757316766,
          0.11908212560385323,
          0.09771566597652281,
          0.07469755732462602,
          0.06842995169081689,
          0.06699159552643152,
          0.07788941115028081,
          0.07076328502414242,
          0.094482583269766,
          0.10031306857392508,
          0.094199182460045,
          0.12418944536170784,
          0.13667995169082303,
          0.1314546430488548,
          0.10903970778838357,
          0.12029742157034207,
          0.11735852311939254,
          0.1037828928673008,
          0.08470902145826642,
          0.0679127103115178,
          0.04865722441809339,
          0.02421646854475057,
          0.0024589371980709984,
          0.03953708127620814,
          0.019613526570040563,
          0.02786037088982596,
          0.06252749511769196,
          0.06404373251970696,
          0.10542421497584087,
          0.11419891428855067,
          0.09299861973775592,
          0.10252964426878464,
          0.08437004830918227,
          0.08231262256660443,
          0.08676612674055662,
          0.07336616481403269,
          0.06666620215533214,
          0.056093857832991034,
          0.05119268981862035,
          0.042551356720395006,
          0.041014492753632226,
          0.035652617116525676,
          0.02129732103645665,
          0.0034168951560218375,
          0.0036978088336780957,
          0.01294172972511376,
          0.02928934655479054,
          0.051091787439617065,
          0.04958728968848902,
          0.05879227053139857,
          0.055807336444772204,
          0.028334754191533307,
          0.018736714975844393,
          0.021694015251327414,
          0.029356933555078513,
          0.051122893837643346,
          0.053747467664024384,
          0.04697004830917706,
          0.05220496894411042,
          0.03239681996272736,
          0.04742942330918254,
          0.04416694753398076,
          0.06018543292456968,
          0.03328760556107113,
          0.04346398770312021,
          0.04469034906105662,
          0.0421670632345581,
          0.034125603864737286,
          0.03723181301506884,
          0.02751895341867794,
          0.0391062801932236,
          0.02592256629478129,
          0.028427191166329635,
          0.02557714050774962,
          0.03621793563313247,
          0.021674943414083714,
          0.029903381642512272,
          0.012156255205738375,
          0.0003371715968398803,
          0.011944197969029346,
          0.014407886147026261,
          0.013482799987031058,
          0.0024299516908143914,
          0.012728988706527389,
          0.012885837782860676,
          0.01415174765558902,
          0.02245592571679822,
          0.010784790400492739,
          0.005673541434418894,
          0.002047755315544464,
          0.0029869137161426806,
          0.0025448910764822585,
          0.0019299516908262149,
          0.01150448585231345,
          0.01170155662910588,
          0.0011600130405184927,
          0.01971043949571083,
          0.0001572244181033966,
          0.010960072172750301,
          0.011633544505187388,
          0.0033704278813075916,
          0.008518709087269372,
          0.025900539926126953,
          0.025535214848716237,
          0.02273227727221183,
          0.0021582753902578133,
          0.0019356988172489764,
          0.00548709454797347,
          0.0018958607817296524,
          0.00024236469334937283,
          0.011688378657112253,
          0.016055650014834555,
          0.023152173913032925,
          0.01635812848640228,
          0.02156181982269345,
          0.01075235606241165,
          0.004136473429952048,
          0.0029975192584004162,
          0.0003872526102526308,
          0.0010620269188024167,
          0.00092995169082144,
          0.007345295606171476,
          0.009991100940766273,
          0.014056959303943017,
          0.003169535024156289,
          0.002497309203775444,
          0.010590666865880394,
          0.005595689334825238,
          0.012998619737757622,
          0.03134162191322787,
          0.03348924022836286,
          0.026419294540332317,
          0.029420048309177105,
          0.026172038358922123,
          0.02458985028935956,
          0.020166107422468826,
          0.016177891446432113,
          0.013448097089664657,
          0.0010360677266447738,
          1.4210854715202004e-14
         ],
         "yaxis": "y"
        }
       ],
       "layout": {
        "legend": {
         "tracegroupgap": 0
        },
        "margin": {
         "t": 60
        },
        "template": {
         "data": {
          "bar": [
           {
            "error_x": {
             "color": "#2a3f5f"
            },
            "error_y": {
             "color": "#2a3f5f"
            },
            "marker": {
             "line": {
              "color": "#E5ECF6",
              "width": 0.5
             },
             "pattern": {
              "fillmode": "overlay",
              "size": 10,
              "solidity": 0.2
             }
            },
            "type": "bar"
           }
          ],
          "barpolar": [
           {
            "marker": {
             "line": {
              "color": "#E5ECF6",
              "width": 0.5
             },
             "pattern": {
              "fillmode": "overlay",
              "size": 10,
              "solidity": 0.2
             }
            },
            "type": "barpolar"
           }
          ],
          "carpet": [
           {
            "aaxis": {
             "endlinecolor": "#2a3f5f",
             "gridcolor": "white",
             "linecolor": "white",
             "minorgridcolor": "white",
             "startlinecolor": "#2a3f5f"
            },
            "baxis": {
             "endlinecolor": "#2a3f5f",
             "gridcolor": "white",
             "linecolor": "white",
             "minorgridcolor": "white",
             "startlinecolor": "#2a3f5f"
            },
            "type": "carpet"
           }
          ],
          "choropleth": [
           {
            "colorbar": {
             "outlinewidth": 0,
             "ticks": ""
            },
            "type": "choropleth"
           }
          ],
          "contour": [
           {
            "colorbar": {
             "outlinewidth": 0,
             "ticks": ""
            },
            "colorscale": [
             [
              0,
              "#0d0887"
             ],
             [
              0.1111111111111111,
              "#46039f"
             ],
             [
              0.2222222222222222,
              "#7201a8"
             ],
             [
              0.3333333333333333,
              "#9c179e"
             ],
             [
              0.4444444444444444,
              "#bd3786"
             ],
             [
              0.5555555555555556,
              "#d8576b"
             ],
             [
              0.6666666666666666,
              "#ed7953"
             ],
             [
              0.7777777777777778,
              "#fb9f3a"
             ],
             [
              0.8888888888888888,
              "#fdca26"
             ],
             [
              1,
              "#f0f921"
             ]
            ],
            "type": "contour"
           }
          ],
          "contourcarpet": [
           {
            "colorbar": {
             "outlinewidth": 0,
             "ticks": ""
            },
            "type": "contourcarpet"
           }
          ],
          "heatmap": [
           {
            "colorbar": {
             "outlinewidth": 0,
             "ticks": ""
            },
            "colorscale": [
             [
              0,
              "#0d0887"
             ],
             [
              0.1111111111111111,
              "#46039f"
             ],
             [
              0.2222222222222222,
              "#7201a8"
             ],
             [
              0.3333333333333333,
              "#9c179e"
             ],
             [
              0.4444444444444444,
              "#bd3786"
             ],
             [
              0.5555555555555556,
              "#d8576b"
             ],
             [
              0.6666666666666666,
              "#ed7953"
             ],
             [
              0.7777777777777778,
              "#fb9f3a"
             ],
             [
              0.8888888888888888,
              "#fdca26"
             ],
             [
              1,
              "#f0f921"
             ]
            ],
            "type": "heatmap"
           }
          ],
          "heatmapgl": [
           {
            "colorbar": {
             "outlinewidth": 0,
             "ticks": ""
            },
            "colorscale": [
             [
              0,
              "#0d0887"
             ],
             [
              0.1111111111111111,
              "#46039f"
             ],
             [
              0.2222222222222222,
              "#7201a8"
             ],
             [
              0.3333333333333333,
              "#9c179e"
             ],
             [
              0.4444444444444444,
              "#bd3786"
             ],
             [
              0.5555555555555556,
              "#d8576b"
             ],
             [
              0.6666666666666666,
              "#ed7953"
             ],
             [
              0.7777777777777778,
              "#fb9f3a"
             ],
             [
              0.8888888888888888,
              "#fdca26"
             ],
             [
              1,
              "#f0f921"
             ]
            ],
            "type": "heatmapgl"
           }
          ],
          "histogram": [
           {
            "marker": {
             "pattern": {
              "fillmode": "overlay",
              "size": 10,
              "solidity": 0.2
             }
            },
            "type": "histogram"
           }
          ],
          "histogram2d": [
           {
            "colorbar": {
             "outlinewidth": 0,
             "ticks": ""
            },
            "colorscale": [
             [
              0,
              "#0d0887"
             ],
             [
              0.1111111111111111,
              "#46039f"
             ],
             [
              0.2222222222222222,
              "#7201a8"
             ],
             [
              0.3333333333333333,
              "#9c179e"
             ],
             [
              0.4444444444444444,
              "#bd3786"
             ],
             [
              0.5555555555555556,
              "#d8576b"
             ],
             [
              0.6666666666666666,
              "#ed7953"
             ],
             [
              0.7777777777777778,
              "#fb9f3a"
             ],
             [
              0.8888888888888888,
              "#fdca26"
             ],
             [
              1,
              "#f0f921"
             ]
            ],
            "type": "histogram2d"
           }
          ],
          "histogram2dcontour": [
           {
            "colorbar": {
             "outlinewidth": 0,
             "ticks": ""
            },
            "colorscale": [
             [
              0,
              "#0d0887"
             ],
             [
              0.1111111111111111,
              "#46039f"
             ],
             [
              0.2222222222222222,
              "#7201a8"
             ],
             [
              0.3333333333333333,
              "#9c179e"
             ],
             [
              0.4444444444444444,
              "#bd3786"
             ],
             [
              0.5555555555555556,
              "#d8576b"
             ],
             [
              0.6666666666666666,
              "#ed7953"
             ],
             [
              0.7777777777777778,
              "#fb9f3a"
             ],
             [
              0.8888888888888888,
              "#fdca26"
             ],
             [
              1,
              "#f0f921"
             ]
            ],
            "type": "histogram2dcontour"
           }
          ],
          "mesh3d": [
           {
            "colorbar": {
             "outlinewidth": 0,
             "ticks": ""
            },
            "type": "mesh3d"
           }
          ],
          "parcoords": [
           {
            "line": {
             "colorbar": {
              "outlinewidth": 0,
              "ticks": ""
             }
            },
            "type": "parcoords"
           }
          ],
          "pie": [
           {
            "automargin": true,
            "type": "pie"
           }
          ],
          "scatter": [
           {
            "fillpattern": {
             "fillmode": "overlay",
             "size": 10,
             "solidity": 0.2
            },
            "type": "scatter"
           }
          ],
          "scatter3d": [
           {
            "line": {
             "colorbar": {
              "outlinewidth": 0,
              "ticks": ""
             }
            },
            "marker": {
             "colorbar": {
              "outlinewidth": 0,
              "ticks": ""
             }
            },
            "type": "scatter3d"
           }
          ],
          "scattercarpet": [
           {
            "marker": {
             "colorbar": {
              "outlinewidth": 0,
              "ticks": ""
             }
            },
            "type": "scattercarpet"
           }
          ],
          "scattergeo": [
           {
            "marker": {
             "colorbar": {
              "outlinewidth": 0,
              "ticks": ""
             }
            },
            "type": "scattergeo"
           }
          ],
          "scattergl": [
           {
            "marker": {
             "colorbar": {
              "outlinewidth": 0,
              "ticks": ""
             }
            },
            "type": "scattergl"
           }
          ],
          "scattermapbox": [
           {
            "marker": {
             "colorbar": {
              "outlinewidth": 0,
              "ticks": ""
             }
            },
            "type": "scattermapbox"
           }
          ],
          "scatterpolar": [
           {
            "marker": {
             "colorbar": {
              "outlinewidth": 0,
              "ticks": ""
             }
            },
            "type": "scatterpolar"
           }
          ],
          "scatterpolargl": [
           {
            "marker": {
             "colorbar": {
              "outlinewidth": 0,
              "ticks": ""
             }
            },
            "type": "scatterpolargl"
           }
          ],
          "scatterternary": [
           {
            "marker": {
             "colorbar": {
              "outlinewidth": 0,
              "ticks": ""
             }
            },
            "type": "scatterternary"
           }
          ],
          "surface": [
           {
            "colorbar": {
             "outlinewidth": 0,
             "ticks": ""
            },
            "colorscale": [
             [
              0,
              "#0d0887"
             ],
             [
              0.1111111111111111,
              "#46039f"
             ],
             [
              0.2222222222222222,
              "#7201a8"
             ],
             [
              0.3333333333333333,
              "#9c179e"
             ],
             [
              0.4444444444444444,
              "#bd3786"
             ],
             [
              0.5555555555555556,
              "#d8576b"
             ],
             [
              0.6666666666666666,
              "#ed7953"
             ],
             [
              0.7777777777777778,
              "#fb9f3a"
             ],
             [
              0.8888888888888888,
              "#fdca26"
             ],
             [
              1,
              "#f0f921"
             ]
            ],
            "type": "surface"
           }
          ],
          "table": [
           {
            "cells": {
             "fill": {
              "color": "#EBF0F8"
             },
             "line": {
              "color": "white"
             }
            },
            "header": {
             "fill": {
              "color": "#C8D4E3"
             },
             "line": {
              "color": "white"
             }
            },
            "type": "table"
           }
          ]
         },
         "layout": {
          "annotationdefaults": {
           "arrowcolor": "#2a3f5f",
           "arrowhead": 0,
           "arrowwidth": 1
          },
          "autotypenumbers": "strict",
          "coloraxis": {
           "colorbar": {
            "outlinewidth": 0,
            "ticks": ""
           }
          },
          "colorscale": {
           "diverging": [
            [
             0,
             "#8e0152"
            ],
            [
             0.1,
             "#c51b7d"
            ],
            [
             0.2,
             "#de77ae"
            ],
            [
             0.3,
             "#f1b6da"
            ],
            [
             0.4,
             "#fde0ef"
            ],
            [
             0.5,
             "#f7f7f7"
            ],
            [
             0.6,
             "#e6f5d0"
            ],
            [
             0.7,
             "#b8e186"
            ],
            [
             0.8,
             "#7fbc41"
            ],
            [
             0.9,
             "#4d9221"
            ],
            [
             1,
             "#276419"
            ]
           ],
           "sequential": [
            [
             0,
             "#0d0887"
            ],
            [
             0.1111111111111111,
             "#46039f"
            ],
            [
             0.2222222222222222,
             "#7201a8"
            ],
            [
             0.3333333333333333,
             "#9c179e"
            ],
            [
             0.4444444444444444,
             "#bd3786"
            ],
            [
             0.5555555555555556,
             "#d8576b"
            ],
            [
             0.6666666666666666,
             "#ed7953"
            ],
            [
             0.7777777777777778,
             "#fb9f3a"
            ],
            [
             0.8888888888888888,
             "#fdca26"
            ],
            [
             1,
             "#f0f921"
            ]
           ],
           "sequentialminus": [
            [
             0,
             "#0d0887"
            ],
            [
             0.1111111111111111,
             "#46039f"
            ],
            [
             0.2222222222222222,
             "#7201a8"
            ],
            [
             0.3333333333333333,
             "#9c179e"
            ],
            [
             0.4444444444444444,
             "#bd3786"
            ],
            [
             0.5555555555555556,
             "#d8576b"
            ],
            [
             0.6666666666666666,
             "#ed7953"
            ],
            [
             0.7777777777777778,
             "#fb9f3a"
            ],
            [
             0.8888888888888888,
             "#fdca26"
            ],
            [
             1,
             "#f0f921"
            ]
           ]
          },
          "colorway": [
           "#636efa",
           "#EF553B",
           "#00cc96",
           "#ab63fa",
           "#FFA15A",
           "#19d3f3",
           "#FF6692",
           "#B6E880",
           "#FF97FF",
           "#FECB52"
          ],
          "font": {
           "color": "#2a3f5f"
          },
          "geo": {
           "bgcolor": "white",
           "lakecolor": "white",
           "landcolor": "#E5ECF6",
           "showlakes": true,
           "showland": true,
           "subunitcolor": "white"
          },
          "hoverlabel": {
           "align": "left"
          },
          "hovermode": "closest",
          "mapbox": {
           "style": "light"
          },
          "paper_bgcolor": "white",
          "plot_bgcolor": "#E5ECF6",
          "polar": {
           "angularaxis": {
            "gridcolor": "white",
            "linecolor": "white",
            "ticks": ""
           },
           "bgcolor": "#E5ECF6",
           "radialaxis": {
            "gridcolor": "white",
            "linecolor": "white",
            "ticks": ""
           }
          },
          "scene": {
           "xaxis": {
            "backgroundcolor": "#E5ECF6",
            "gridcolor": "white",
            "gridwidth": 2,
            "linecolor": "white",
            "showbackground": true,
            "ticks": "",
            "zerolinecolor": "white"
           },
           "yaxis": {
            "backgroundcolor": "#E5ECF6",
            "gridcolor": "white",
            "gridwidth": 2,
            "linecolor": "white",
            "showbackground": true,
            "ticks": "",
            "zerolinecolor": "white"
           },
           "zaxis": {
            "backgroundcolor": "#E5ECF6",
            "gridcolor": "white",
            "gridwidth": 2,
            "linecolor": "white",
            "showbackground": true,
            "ticks": "",
            "zerolinecolor": "white"
           }
          },
          "shapedefaults": {
           "line": {
            "color": "#2a3f5f"
           }
          },
          "ternary": {
           "aaxis": {
            "gridcolor": "white",
            "linecolor": "white",
            "ticks": ""
           },
           "baxis": {
            "gridcolor": "white",
            "linecolor": "white",
            "ticks": ""
           },
           "bgcolor": "#E5ECF6",
           "caxis": {
            "gridcolor": "white",
            "linecolor": "white",
            "ticks": ""
           }
          },
          "title": {
           "x": 0.05
          },
          "xaxis": {
           "automargin": true,
           "gridcolor": "white",
           "linecolor": "white",
           "ticks": "",
           "title": {
            "standoff": 15
           },
           "zerolinecolor": "white",
           "zerolinewidth": 2
          },
          "yaxis": {
           "automargin": true,
           "gridcolor": "white",
           "linecolor": "white",
           "ticks": "",
           "title": {
            "standoff": 15
           },
           "zerolinecolor": "white",
           "zerolinewidth": 2
          }
         }
        },
        "xaxis": {
         "anchor": "y",
         "domain": [
          0,
          1
         ],
         "title": {
          "text": "n"
         }
        },
        "yaxis": {
         "anchor": "x",
         "domain": [
          0,
          1
         ],
         "title": {
          "text": "erro"
         }
        }
       }
      }
     },
     "metadata": {},
     "output_type": "display_data"
    }
   ],
   "source": [
    "px.line(df_samples, x='n', y='erro')"
   ]
  },
  {
   "cell_type": "code",
   "execution_count": 112,
   "id": "157bf161",
   "metadata": {},
   "outputs": [
    {
     "data": {
      "text/plain": [
       "<Axes: xlabel='Total Cup Points', ylabel='Count'>"
      ]
     },
     "execution_count": 112,
     "metadata": {},
     "output_type": "execute_result"
    },
    {
     "data": {
      "image/png": "[encoded data removed]",
      "text/plain": [
       "<Figure size 640x480 with 1 Axes>"
      ]
     },
     "metadata": {},
     "output_type": "display_data"
    }
   ],
   "source": [
    "sns.histplot(dataset['Total Cup Points'])"
   ]
  },
  {
   "cell_type": "code",
   "execution_count": 113,
   "id": "9461ed87",
   "metadata": {},
   "outputs": [
    {
     "data": {
      "text/plain": [
       "(207, 42)"
      ]
     },
     "execution_count": 113,
     "metadata": {},
     "output_type": "execute_result"
    }
   ],
   "source": [
    "dataset.shape"
   ]
  },
  {
   "cell_type": "code",
   "execution_count": 114,
   "id": "5d35aae0",
   "metadata": {},
   "outputs": [
    {
     "data": {
      "text/html": [
       "<div>\n",
       "<style scoped>\n",
       "    .dataframe tbody tr th:only-of-type {\n",
       "        vertical-align: middle;\n",
       "    }\n",
       "\n",
       "    .dataframe tbody tr th {\n",
       "        vertical-align: top;\n",
       "    }\n",
       "\n",
       "    .dataframe thead th {\n",
       "        text-align: right;\n",
       "    }\n",
       "</style>\n",
       "<table border=\"1\" class=\"dataframe\">\n",
       "  <thead>\n",
       "    <tr style=\"text-align: right;\">\n",
       "      <th></th>\n",
       "      <th>Sample 1</th>\n",
       "      <th>Sample 2</th>\n",
       "      <th>Sample 3</th>\n",
       "      <th>Sample 4</th>\n",
       "      <th>Sample 5</th>\n",
       "      <th>Sample 6</th>\n",
       "      <th>Sample 7</th>\n",
       "      <th>Sample 8</th>\n",
       "      <th>Sample 9</th>\n",
       "      <th>Sample 10</th>\n",
       "      <th>...</th>\n",
       "      <th>Sample 2991</th>\n",
       "      <th>Sample 2992</th>\n",
       "      <th>Sample 2993</th>\n",
       "      <th>Sample 2994</th>\n",
       "      <th>Sample 2995</th>\n",
       "      <th>Sample 2996</th>\n",
       "      <th>Sample 2997</th>\n",
       "      <th>Sample 2998</th>\n",
       "      <th>Sample 2999</th>\n",
       "      <th>Sample 3000</th>\n",
       "    </tr>\n",
       "  </thead>\n",
       "  <tbody>\n",
       "    <tr>\n",
       "      <th>0</th>\n",
       "      <td>84.33</td>\n",
       "      <td>84.08</td>\n",
       "      <td>84.58</td>\n",
       "      <td>83.42</td>\n",
       "      <td>85.42</td>\n",
       "      <td>85.25</td>\n",
       "      <td>84.67</td>\n",
       "      <td>84.00</td>\n",
       "      <td>85.50</td>\n",
       "      <td>83.58</td>\n",
       "      <td>...</td>\n",
       "      <td>84.67</td>\n",
       "      <td>81.92</td>\n",
       "      <td>83.33</td>\n",
       "      <td>83.08</td>\n",
       "      <td>84.33</td>\n",
       "      <td>78.00</td>\n",
       "      <td>83.25</td>\n",
       "      <td>87.42</td>\n",
       "      <td>85.08</td>\n",
       "      <td>82.67</td>\n",
       "    </tr>\n",
       "    <tr>\n",
       "      <th>1</th>\n",
       "      <td>81.00</td>\n",
       "      <td>78.08</td>\n",
       "      <td>81.50</td>\n",
       "      <td>81.92</td>\n",
       "      <td>85.25</td>\n",
       "      <td>85.42</td>\n",
       "      <td>84.08</td>\n",
       "      <td>82.08</td>\n",
       "      <td>83.83</td>\n",
       "      <td>84.08</td>\n",
       "      <td>...</td>\n",
       "      <td>84.00</td>\n",
       "      <td>84.33</td>\n",
       "      <td>83.83</td>\n",
       "      <td>82.25</td>\n",
       "      <td>84.58</td>\n",
       "      <td>83.42</td>\n",
       "      <td>84.58</td>\n",
       "      <td>83.83</td>\n",
       "      <td>84.33</td>\n",
       "      <td>84.67</td>\n",
       "    </tr>\n",
       "    <tr>\n",
       "      <th>2</th>\n",
       "      <td>82.58</td>\n",
       "      <td>82.08</td>\n",
       "      <td>82.50</td>\n",
       "      <td>81.58</td>\n",
       "      <td>84.67</td>\n",
       "      <td>83.33</td>\n",
       "      <td>87.58</td>\n",
       "      <td>83.33</td>\n",
       "      <td>84.50</td>\n",
       "      <td>82.75</td>\n",
       "      <td>...</td>\n",
       "      <td>82.17</td>\n",
       "      <td>82.92</td>\n",
       "      <td>84.33</td>\n",
       "      <td>84.75</td>\n",
       "      <td>83.08</td>\n",
       "      <td>86.67</td>\n",
       "      <td>83.25</td>\n",
       "      <td>85.00</td>\n",
       "      <td>85.00</td>\n",
       "      <td>83.67</td>\n",
       "    </tr>\n",
       "    <tr>\n",
       "      <th>3</th>\n",
       "      <td>84.75</td>\n",
       "      <td>84.33</td>\n",
       "      <td>84.92</td>\n",
       "      <td>81.83</td>\n",
       "      <td>83.33</td>\n",
       "      <td>83.75</td>\n",
       "      <td>82.50</td>\n",
       "      <td>82.33</td>\n",
       "      <td>85.08</td>\n",
       "      <td>83.33</td>\n",
       "      <td>...</td>\n",
       "      <td>86.17</td>\n",
       "      <td>84.92</td>\n",
       "      <td>86.92</td>\n",
       "      <td>85.50</td>\n",
       "      <td>83.42</td>\n",
       "      <td>83.08</td>\n",
       "      <td>80.33</td>\n",
       "      <td>83.33</td>\n",
       "      <td>84.50</td>\n",
       "      <td>85.33</td>\n",
       "    </tr>\n",
       "    <tr>\n",
       "      <th>4</th>\n",
       "      <td>83.83</td>\n",
       "      <td>80.33</td>\n",
       "      <td>83.58</td>\n",
       "      <td>81.17</td>\n",
       "      <td>83.08</td>\n",
       "      <td>83.83</td>\n",
       "      <td>87.17</td>\n",
       "      <td>84.58</td>\n",
       "      <td>80.33</td>\n",
       "      <td>83.33</td>\n",
       "      <td>...</td>\n",
       "      <td>84.08</td>\n",
       "      <td>85.25</td>\n",
       "      <td>86.67</td>\n",
       "      <td>84.42</td>\n",
       "      <td>86.17</td>\n",
       "      <td>83.50</td>\n",
       "      <td>83.25</td>\n",
       "      <td>82.92</td>\n",
       "      <td>84.25</td>\n",
       "      <td>83.33</td>\n",
       "    </tr>\n",
       "    <tr>\n",
       "      <th>5</th>\n",
       "      <td>83.67</td>\n",
       "      <td>84.08</td>\n",
       "      <td>83.25</td>\n",
       "      <td>82.08</td>\n",
       "      <td>83.75</td>\n",
       "      <td>82.92</td>\n",
       "      <td>84.58</td>\n",
       "      <td>84.67</td>\n",
       "      <td>84.92</td>\n",
       "      <td>86.67</td>\n",
       "      <td>...</td>\n",
       "      <td>83.83</td>\n",
       "      <td>81.17</td>\n",
       "      <td>87.58</td>\n",
       "      <td>82.58</td>\n",
       "      <td>82.75</td>\n",
       "      <td>84.08</td>\n",
       "      <td>84.08</td>\n",
       "      <td>84.33</td>\n",
       "      <td>85.50</td>\n",
       "      <td>85.50</td>\n",
       "    </tr>\n",
       "    <tr>\n",
       "      <th>6</th>\n",
       "      <td>85.50</td>\n",
       "      <td>80.17</td>\n",
       "      <td>84.50</td>\n",
       "      <td>86.50</td>\n",
       "      <td>84.50</td>\n",
       "      <td>84.50</td>\n",
       "      <td>84.58</td>\n",
       "      <td>84.58</td>\n",
       "      <td>83.42</td>\n",
       "      <td>83.92</td>\n",
       "      <td>...</td>\n",
       "      <td>82.67</td>\n",
       "      <td>83.92</td>\n",
       "      <td>84.58</td>\n",
       "      <td>83.83</td>\n",
       "      <td>87.08</td>\n",
       "      <td>83.67</td>\n",
       "      <td>83.42</td>\n",
       "      <td>84.75</td>\n",
       "      <td>81.92</td>\n",
       "      <td>83.08</td>\n",
       "    </tr>\n",
       "    <tr>\n",
       "      <th>7</th>\n",
       "      <td>86.25</td>\n",
       "      <td>82.50</td>\n",
       "      <td>82.17</td>\n",
       "      <td>84.58</td>\n",
       "      <td>86.67</td>\n",
       "      <td>86.25</td>\n",
       "      <td>82.00</td>\n",
       "      <td>84.33</td>\n",
       "      <td>82.42</td>\n",
       "      <td>85.50</td>\n",
       "      <td>...</td>\n",
       "      <td>82.58</td>\n",
       "      <td>83.75</td>\n",
       "      <td>83.67</td>\n",
       "      <td>82.17</td>\n",
       "      <td>84.50</td>\n",
       "      <td>80.83</td>\n",
       "      <td>86.25</td>\n",
       "      <td>82.75</td>\n",
       "      <td>78.08</td>\n",
       "      <td>82.92</td>\n",
       "    </tr>\n",
       "    <tr>\n",
       "      <th>8</th>\n",
       "      <td>85.50</td>\n",
       "      <td>81.17</td>\n",
       "      <td>84.00</td>\n",
       "      <td>83.83</td>\n",
       "      <td>85.33</td>\n",
       "      <td>83.83</td>\n",
       "      <td>82.33</td>\n",
       "      <td>83.50</td>\n",
       "      <td>83.25</td>\n",
       "      <td>83.50</td>\n",
       "      <td>...</td>\n",
       "      <td>84.00</td>\n",
       "      <td>83.67</td>\n",
       "      <td>83.67</td>\n",
       "      <td>81.92</td>\n",
       "      <td>81.58</td>\n",
       "      <td>83.33</td>\n",
       "      <td>82.92</td>\n",
       "      <td>86.08</td>\n",
       "      <td>85.25</td>\n",
       "      <td>83.25</td>\n",
       "    </tr>\n",
       "    <tr>\n",
       "      <th>9</th>\n",
       "      <td>84.58</td>\n",
       "      <td>83.75</td>\n",
       "      <td>86.08</td>\n",
       "      <td>85.83</td>\n",
       "      <td>81.75</td>\n",
       "      <td>86.08</td>\n",
       "      <td>83.33</td>\n",
       "      <td>82.83</td>\n",
       "      <td>85.08</td>\n",
       "      <td>83.83</td>\n",
       "      <td>...</td>\n",
       "      <td>85.75</td>\n",
       "      <td>82.92</td>\n",
       "      <td>84.17</td>\n",
       "      <td>86.25</td>\n",
       "      <td>81.17</td>\n",
       "      <td>85.50</td>\n",
       "      <td>82.25</td>\n",
       "      <td>84.08</td>\n",
       "      <td>84.67</td>\n",
       "      <td>80.83</td>\n",
       "    </tr>\n",
       "    <tr>\n",
       "      <th>10</th>\n",
       "      <td>82.33</td>\n",
       "      <td>85.83</td>\n",
       "      <td>85.00</td>\n",
       "      <td>84.83</td>\n",
       "      <td>82.00</td>\n",
       "      <td>81.83</td>\n",
       "      <td>85.42</td>\n",
       "      <td>86.17</td>\n",
       "      <td>86.08</td>\n",
       "      <td>83.17</td>\n",
       "      <td>...</td>\n",
       "      <td>78.00</td>\n",
       "      <td>87.17</td>\n",
       "      <td>84.92</td>\n",
       "      <td>83.25</td>\n",
       "      <td>84.83</td>\n",
       "      <td>82.17</td>\n",
       "      <td>85.50</td>\n",
       "      <td>82.42</td>\n",
       "      <td>82.33</td>\n",
       "      <td>83.25</td>\n",
       "    </tr>\n",
       "    <tr>\n",
       "      <th>11</th>\n",
       "      <td>82.33</td>\n",
       "      <td>83.83</td>\n",
       "      <td>84.75</td>\n",
       "      <td>84.00</td>\n",
       "      <td>85.33</td>\n",
       "      <td>83.00</td>\n",
       "      <td>84.83</td>\n",
       "      <td>84.75</td>\n",
       "      <td>85.67</td>\n",
       "      <td>85.75</td>\n",
       "      <td>...</td>\n",
       "      <td>81.33</td>\n",
       "      <td>84.00</td>\n",
       "      <td>83.08</td>\n",
       "      <td>82.00</td>\n",
       "      <td>83.92</td>\n",
       "      <td>86.25</td>\n",
       "      <td>82.83</td>\n",
       "      <td>83.25</td>\n",
       "      <td>82.75</td>\n",
       "      <td>86.08</td>\n",
       "    </tr>\n",
       "    <tr>\n",
       "      <th>12</th>\n",
       "      <td>80.00</td>\n",
       "      <td>83.33</td>\n",
       "      <td>83.00</td>\n",
       "      <td>85.17</td>\n",
       "      <td>81.83</td>\n",
       "      <td>83.83</td>\n",
       "      <td>83.67</td>\n",
       "      <td>80.00</td>\n",
       "      <td>86.17</td>\n",
       "      <td>83.92</td>\n",
       "      <td>...</td>\n",
       "      <td>84.50</td>\n",
       "      <td>84.00</td>\n",
       "      <td>84.83</td>\n",
       "      <td>85.33</td>\n",
       "      <td>83.25</td>\n",
       "      <td>83.33</td>\n",
       "      <td>85.08</td>\n",
       "      <td>83.25</td>\n",
       "      <td>82.58</td>\n",
       "      <td>86.50</td>\n",
       "    </tr>\n",
       "    <tr>\n",
       "      <th>13</th>\n",
       "      <td>86.17</td>\n",
       "      <td>84.75</td>\n",
       "      <td>82.92</td>\n",
       "      <td>86.67</td>\n",
       "      <td>83.67</td>\n",
       "      <td>83.50</td>\n",
       "      <td>81.50</td>\n",
       "      <td>87.00</td>\n",
       "      <td>83.58</td>\n",
       "      <td>82.00</td>\n",
       "      <td>...</td>\n",
       "      <td>85.67</td>\n",
       "      <td>81.58</td>\n",
       "      <td>83.33</td>\n",
       "      <td>84.00</td>\n",
       "      <td>83.50</td>\n",
       "      <td>84.50</td>\n",
       "      <td>82.00</td>\n",
       "      <td>82.08</td>\n",
       "      <td>83.08</td>\n",
       "      <td>83.42</td>\n",
       "    </tr>\n",
       "    <tr>\n",
       "      <th>14</th>\n",
       "      <td>84.25</td>\n",
       "      <td>80.00</td>\n",
       "      <td>83.25</td>\n",
       "      <td>85.33</td>\n",
       "      <td>86.08</td>\n",
       "      <td>83.33</td>\n",
       "      <td>82.67</td>\n",
       "      <td>83.25</td>\n",
       "      <td>84.00</td>\n",
       "      <td>85.08</td>\n",
       "      <td>...</td>\n",
       "      <td>82.83</td>\n",
       "      <td>83.92</td>\n",
       "      <td>82.50</td>\n",
       "      <td>84.00</td>\n",
       "      <td>85.08</td>\n",
       "      <td>84.67</td>\n",
       "      <td>80.42</td>\n",
       "      <td>84.58</td>\n",
       "      <td>86.25</td>\n",
       "      <td>84.75</td>\n",
       "    </tr>\n",
       "    <tr>\n",
       "      <th>15</th>\n",
       "      <td>85.25</td>\n",
       "      <td>83.58</td>\n",
       "      <td>85.50</td>\n",
       "      <td>84.83</td>\n",
       "      <td>80.08</td>\n",
       "      <td>86.17</td>\n",
       "      <td>84.08</td>\n",
       "      <td>82.17</td>\n",
       "      <td>84.67</td>\n",
       "      <td>85.25</td>\n",
       "      <td>...</td>\n",
       "      <td>83.67</td>\n",
       "      <td>82.50</td>\n",
       "      <td>83.25</td>\n",
       "      <td>84.58</td>\n",
       "      <td>82.33</td>\n",
       "      <td>82.83</td>\n",
       "      <td>83.50</td>\n",
       "      <td>83.92</td>\n",
       "      <td>85.67</td>\n",
       "      <td>83.67</td>\n",
       "    </tr>\n",
       "    <tr>\n",
       "      <th>16</th>\n",
       "      <td>80.08</td>\n",
       "      <td>81.75</td>\n",
       "      <td>84.92</td>\n",
       "      <td>85.00</td>\n",
       "      <td>85.17</td>\n",
       "      <td>82.50</td>\n",
       "      <td>83.17</td>\n",
       "      <td>81.83</td>\n",
       "      <td>84.25</td>\n",
       "      <td>80.50</td>\n",
       "      <td>...</td>\n",
       "      <td>83.25</td>\n",
       "      <td>83.25</td>\n",
       "      <td>81.42</td>\n",
       "      <td>84.33</td>\n",
       "      <td>81.00</td>\n",
       "      <td>84.67</td>\n",
       "      <td>84.00</td>\n",
       "      <td>78.08</td>\n",
       "      <td>86.25</td>\n",
       "      <td>85.33</td>\n",
       "    </tr>\n",
       "    <tr>\n",
       "      <th>17</th>\n",
       "      <td>82.58</td>\n",
       "      <td>84.67</td>\n",
       "      <td>80.33</td>\n",
       "      <td>84.50</td>\n",
       "      <td>84.83</td>\n",
       "      <td>85.25</td>\n",
       "      <td>83.00</td>\n",
       "      <td>83.25</td>\n",
       "      <td>83.83</td>\n",
       "      <td>83.33</td>\n",
       "      <td>...</td>\n",
       "      <td>85.67</td>\n",
       "      <td>82.50</td>\n",
       "      <td>86.25</td>\n",
       "      <td>80.33</td>\n",
       "      <td>81.83</td>\n",
       "      <td>84.92</td>\n",
       "      <td>87.00</td>\n",
       "      <td>86.25</td>\n",
       "      <td>84.67</td>\n",
       "      <td>83.33</td>\n",
       "    </tr>\n",
       "    <tr>\n",
       "      <th>18</th>\n",
       "      <td>85.50</td>\n",
       "      <td>85.25</td>\n",
       "      <td>84.83</td>\n",
       "      <td>83.75</td>\n",
       "      <td>83.25</td>\n",
       "      <td>82.58</td>\n",
       "      <td>82.33</td>\n",
       "      <td>84.33</td>\n",
       "      <td>82.50</td>\n",
       "      <td>81.83</td>\n",
       "      <td>...</td>\n",
       "      <td>83.33</td>\n",
       "      <td>84.75</td>\n",
       "      <td>79.67</td>\n",
       "      <td>83.33</td>\n",
       "      <td>84.08</td>\n",
       "      <td>85.00</td>\n",
       "      <td>83.83</td>\n",
       "      <td>83.08</td>\n",
       "      <td>85.00</td>\n",
       "      <td>84.75</td>\n",
       "    </tr>\n",
       "    <tr>\n",
       "      <th>19</th>\n",
       "      <td>85.67</td>\n",
       "      <td>84.33</td>\n",
       "      <td>83.58</td>\n",
       "      <td>82.00</td>\n",
       "      <td>81.17</td>\n",
       "      <td>84.00</td>\n",
       "      <td>84.08</td>\n",
       "      <td>84.58</td>\n",
       "      <td>83.83</td>\n",
       "      <td>84.92</td>\n",
       "      <td>...</td>\n",
       "      <td>81.83</td>\n",
       "      <td>83.25</td>\n",
       "      <td>82.67</td>\n",
       "      <td>83.67</td>\n",
       "      <td>84.00</td>\n",
       "      <td>82.17</td>\n",
       "      <td>83.42</td>\n",
       "      <td>84.83</td>\n",
       "      <td>84.58</td>\n",
       "      <td>82.50</td>\n",
       "    </tr>\n",
       "    <tr>\n",
       "      <th>20</th>\n",
       "      <td>83.75</td>\n",
       "      <td>82.50</td>\n",
       "      <td>80.33</td>\n",
       "      <td>83.08</td>\n",
       "      <td>81.33</td>\n",
       "      <td>82.00</td>\n",
       "      <td>82.42</td>\n",
       "      <td>85.33</td>\n",
       "      <td>82.92</td>\n",
       "      <td>83.33</td>\n",
       "      <td>...</td>\n",
       "      <td>87.00</td>\n",
       "      <td>86.08</td>\n",
       "      <td>84.33</td>\n",
       "      <td>81.75</td>\n",
       "      <td>84.83</td>\n",
       "      <td>80.33</td>\n",
       "      <td>86.50</td>\n",
       "      <td>82.33</td>\n",
       "      <td>82.00</td>\n",
       "      <td>82.33</td>\n",
       "    </tr>\n",
       "    <tr>\n",
       "      <th>21</th>\n",
       "      <td>85.67</td>\n",
       "      <td>83.50</td>\n",
       "      <td>82.33</td>\n",
       "      <td>84.00</td>\n",
       "      <td>83.67</td>\n",
       "      <td>82.17</td>\n",
       "      <td>85.25</td>\n",
       "      <td>85.50</td>\n",
       "      <td>85.00</td>\n",
       "      <td>85.08</td>\n",
       "      <td>...</td>\n",
       "      <td>82.50</td>\n",
       "      <td>80.33</td>\n",
       "      <td>83.25</td>\n",
       "      <td>84.67</td>\n",
       "      <td>83.42</td>\n",
       "      <td>82.83</td>\n",
       "      <td>80.42</td>\n",
       "      <td>83.92</td>\n",
       "      <td>84.58</td>\n",
       "      <td>84.00</td>\n",
       "    </tr>\n",
       "    <tr>\n",
       "      <th>22</th>\n",
       "      <td>84.50</td>\n",
       "      <td>82.50</td>\n",
       "      <td>85.58</td>\n",
       "      <td>80.17</td>\n",
       "      <td>85.42</td>\n",
       "      <td>83.08</td>\n",
       "      <td>82.00</td>\n",
       "      <td>83.92</td>\n",
       "      <td>85.25</td>\n",
       "      <td>83.50</td>\n",
       "      <td>...</td>\n",
       "      <td>84.50</td>\n",
       "      <td>82.75</td>\n",
       "      <td>85.33</td>\n",
       "      <td>83.92</td>\n",
       "      <td>82.00</td>\n",
       "      <td>83.75</td>\n",
       "      <td>83.33</td>\n",
       "      <td>84.25</td>\n",
       "      <td>83.67</td>\n",
       "      <td>85.33</td>\n",
       "    </tr>\n",
       "    <tr>\n",
       "      <th>23</th>\n",
       "      <td>87.08</td>\n",
       "      <td>85.50</td>\n",
       "      <td>83.83</td>\n",
       "      <td>80.42</td>\n",
       "      <td>87.17</td>\n",
       "      <td>82.33</td>\n",
       "      <td>85.50</td>\n",
       "      <td>86.75</td>\n",
       "      <td>81.75</td>\n",
       "      <td>82.00</td>\n",
       "      <td>...</td>\n",
       "      <td>86.75</td>\n",
       "      <td>83.33</td>\n",
       "      <td>81.75</td>\n",
       "      <td>80.17</td>\n",
       "      <td>83.83</td>\n",
       "      <td>83.00</td>\n",
       "      <td>85.50</td>\n",
       "      <td>81.33</td>\n",
       "      <td>83.83</td>\n",
       "      <td>84.25</td>\n",
       "    </tr>\n",
       "    <tr>\n",
       "      <th>24</th>\n",
       "      <td>83.50</td>\n",
       "      <td>84.83</td>\n",
       "      <td>86.25</td>\n",
       "      <td>85.33</td>\n",
       "      <td>82.33</td>\n",
       "      <td>83.58</td>\n",
       "      <td>85.08</td>\n",
       "      <td>87.42</td>\n",
       "      <td>84.58</td>\n",
       "      <td>84.58</td>\n",
       "      <td>...</td>\n",
       "      <td>82.33</td>\n",
       "      <td>81.83</td>\n",
       "      <td>84.42</td>\n",
       "      <td>87.42</td>\n",
       "      <td>86.67</td>\n",
       "      <td>82.17</td>\n",
       "      <td>82.75</td>\n",
       "      <td>83.75</td>\n",
       "      <td>80.17</td>\n",
       "      <td>86.25</td>\n",
       "    </tr>\n",
       "    <tr>\n",
       "      <th>25</th>\n",
       "      <td>85.83</td>\n",
       "      <td>82.83</td>\n",
       "      <td>87.17</td>\n",
       "      <td>83.50</td>\n",
       "      <td>80.50</td>\n",
       "      <td>83.67</td>\n",
       "      <td>83.67</td>\n",
       "      <td>83.67</td>\n",
       "      <td>82.33</td>\n",
       "      <td>81.42</td>\n",
       "      <td>...</td>\n",
       "      <td>83.83</td>\n",
       "      <td>84.75</td>\n",
       "      <td>82.92</td>\n",
       "      <td>82.75</td>\n",
       "      <td>83.25</td>\n",
       "      <td>83.33</td>\n",
       "      <td>86.17</td>\n",
       "      <td>83.92</td>\n",
       "      <td>81.17</td>\n",
       "      <td>85.08</td>\n",
       "    </tr>\n",
       "    <tr>\n",
       "      <th>26</th>\n",
       "      <td>82.67</td>\n",
       "      <td>81.67</td>\n",
       "      <td>84.83</td>\n",
       "      <td>82.33</td>\n",
       "      <td>83.67</td>\n",
       "      <td>80.08</td>\n",
       "      <td>85.25</td>\n",
       "      <td>81.17</td>\n",
       "      <td>83.58</td>\n",
       "      <td>82.83</td>\n",
       "      <td>...</td>\n",
       "      <td>80.83</td>\n",
       "      <td>82.00</td>\n",
       "      <td>85.67</td>\n",
       "      <td>81.83</td>\n",
       "      <td>89.33</td>\n",
       "      <td>81.17</td>\n",
       "      <td>80.33</td>\n",
       "      <td>84.08</td>\n",
       "      <td>83.92</td>\n",
       "      <td>84.50</td>\n",
       "    </tr>\n",
       "    <tr>\n",
       "      <th>27</th>\n",
       "      <td>82.17</td>\n",
       "      <td>83.67</td>\n",
       "      <td>85.00</td>\n",
       "      <td>85.42</td>\n",
       "      <td>79.67</td>\n",
       "      <td>84.92</td>\n",
       "      <td>83.83</td>\n",
       "      <td>84.50</td>\n",
       "      <td>85.00</td>\n",
       "      <td>81.33</td>\n",
       "      <td>...</td>\n",
       "      <td>84.17</td>\n",
       "      <td>85.08</td>\n",
       "      <td>84.25</td>\n",
       "      <td>84.08</td>\n",
       "      <td>83.67</td>\n",
       "      <td>87.08</td>\n",
       "      <td>83.25</td>\n",
       "      <td>84.58</td>\n",
       "      <td>82.92</td>\n",
       "      <td>82.83</td>\n",
       "    </tr>\n",
       "    <tr>\n",
       "      <th>28</th>\n",
       "      <td>84.75</td>\n",
       "      <td>80.42</td>\n",
       "      <td>82.00</td>\n",
       "      <td>82.33</td>\n",
       "      <td>84.67</td>\n",
       "      <td>85.75</td>\n",
       "      <td>85.50</td>\n",
       "      <td>83.33</td>\n",
       "      <td>84.08</td>\n",
       "      <td>80.42</td>\n",
       "      <td>...</td>\n",
       "      <td>80.50</td>\n",
       "      <td>84.25</td>\n",
       "      <td>84.67</td>\n",
       "      <td>85.33</td>\n",
       "      <td>85.50</td>\n",
       "      <td>83.25</td>\n",
       "      <td>83.50</td>\n",
       "      <td>83.17</td>\n",
       "      <td>84.25</td>\n",
       "      <td>84.58</td>\n",
       "    </tr>\n",
       "    <tr>\n",
       "      <th>29</th>\n",
       "      <td>86.25</td>\n",
       "      <td>82.67</td>\n",
       "      <td>80.50</td>\n",
       "      <td>83.83</td>\n",
       "      <td>84.25</td>\n",
       "      <td>83.42</td>\n",
       "      <td>86.08</td>\n",
       "      <td>83.83</td>\n",
       "      <td>83.67</td>\n",
       "      <td>81.00</td>\n",
       "      <td>...</td>\n",
       "      <td>83.33</td>\n",
       "      <td>82.50</td>\n",
       "      <td>83.33</td>\n",
       "      <td>83.50</td>\n",
       "      <td>84.33</td>\n",
       "      <td>85.42</td>\n",
       "      <td>82.33</td>\n",
       "      <td>83.58</td>\n",
       "      <td>85.00</td>\n",
       "      <td>85.67</td>\n",
       "    </tr>\n",
       "    <tr>\n",
       "      <th>30</th>\n",
       "      <td>83.33</td>\n",
       "      <td>83.25</td>\n",
       "      <td>85.25</td>\n",
       "      <td>85.00</td>\n",
       "      <td>84.00</td>\n",
       "      <td>82.83</td>\n",
       "      <td>83.25</td>\n",
       "      <td>83.33</td>\n",
       "      <td>87.00</td>\n",
       "      <td>84.00</td>\n",
       "      <td>...</td>\n",
       "      <td>84.58</td>\n",
       "      <td>83.33</td>\n",
       "      <td>85.50</td>\n",
       "      <td>83.92</td>\n",
       "      <td>85.25</td>\n",
       "      <td>84.25</td>\n",
       "      <td>81.83</td>\n",
       "      <td>87.58</td>\n",
       "      <td>83.58</td>\n",
       "      <td>84.33</td>\n",
       "    </tr>\n",
       "  </tbody>\n",
       "</table>\n",
       "<p>31 rows × 3000 columns</p>\n",
       "</div>"
      ],
      "text/plain": [
       "    Sample 1  Sample 2  Sample 3  Sample 4  Sample 5  Sample 6  Sample 7  \\\n",
       "0      84.33     84.08     84.58     83.42     85.42     85.25     84.67   \n",
       "1      81.00     78.08     81.50     81.92     85.25     85.42     84.08   \n",
       "2      82.58     82.08     82.50     81.58     84.67     83.33     87.58   \n",
       "3      84.75     84.33     84.92     81.83     83.33     83.75     82.50   \n",
       "4      83.83     80.33     83.58     81.17     83.08     83.83     87.17   \n",
       "5      83.67     84.08     83.25     82.08     83.75     82.92     84.58   \n",
       "6      85.50     80.17     84.50     86.50     84.50     84.50     84.58   \n",
       "7      86.25     82.50     82.17     84.58     86.67     86.25     82.00   \n",
       "8      85.50     81.17     84.00     83.83     85.33     83.83     82.33   \n",
       "9      84.58     83.75     86.08     85.83     81.75     86.08     83.33   \n",
       "10     82.33     85.83     85.00     84.83     82.00     81.83     85.42   \n",
       "11     82.33     83.83     84.75     84.00     85.33     83.00     84.83   \n",
       "12     80.00     83.33     83.00     85.17     81.83     83.83     83.67   \n",
       "13     86.17     84.75     82.92     86.67     83.67     83.50     81.50   \n",
       "14     84.25     80.00     83.25     85.33     86.08     83.33     82.67   \n",
       "15     85.25     83.58     85.50     84.83     80.08     86.17     84.08   \n",
       "16     80.08     81.75     84.92     85.00     85.17     82.50     83.17   \n",
       "17     82.58     84.67     80.33     84.50     84.83     85.25     83.00   \n",
       "18     85.50     85.25     84.83     83.75     83.25     82.58     82.33   \n",
       "19     85.67     84.33     83.58     82.00     81.17     84.00     84.08   \n",
       "20     83.75     82.50     80.33     83.08     81.33     82.00     82.42   \n",
       "21     85.67     83.50     82.33     84.00     83.67     82.17     85.25   \n",
       "22     84.50     82.50     85.58     80.17     85.42     83.08     82.00   \n",
       "23     87.08     85.50     83.83     80.42     87.17     82.33     85.50   \n",
       "24     83.50     84.83     86.25     85.33     82.33     83.58     85.08   \n",
       "25     85.83     82.83     87.17     83.50     80.50     83.67     83.67   \n",
       "26     82.67     81.67     84.83     82.33     83.67     80.08     85.25   \n",
       "27     82.17     83.67     85.00     85.42     79.67     84.92     83.83   \n",
       "28     84.75     80.42     82.00     82.33     84.67     85.75     85.50   \n",
       "29     86.25     82.67     80.50     83.83     84.25     83.42     86.08   \n",
       "30     83.33     83.25     85.25     85.00     84.00     82.83     83.25   \n",
       "\n",
       "    Sample 8  Sample 9  Sample 10  ...  Sample 2991  Sample 2992  Sample 2993  \\\n",
       "0      84.00     85.50      83.58  ...        84.67        81.92        83.33   \n",
       "1      82.08     83.83      84.08  ...        84.00        84.33        83.83   \n",
       "2      83.33     84.50      82.75  ...        82.17        82.92        84.33   \n",
       "3      82.33     85.08      83.33  ...        86.17        84.92        86.92   \n",
       "4      84.58     80.33      83.33  ...        84.08        85.25        86.67   \n",
       "5      84.67     84.92      86.67  ...        83.83        81.17        87.58   \n",
       "6      84.58     83.42      83.92  ...        82.67        83.92        84.58   \n",
       "7      84.33     82.42      85.50  ...        82.58        83.75        83.67   \n",
       "8      83.50     83.25      83.50  ...        84.00        83.67        83.67   \n",
       "9      82.83     85.08      83.83  ...        85.75        82.92        84.17   \n",
       "10     86.17     86.08      83.17  ...        78.00        87.17        84.92   \n",
       "11     84.75     85.67      85.75  ...        81.33        84.00        83.08   \n",
       "12     80.00     86.17      83.92  ...        84.50        84.00        84.83   \n",
       "13     87.00     83.58      82.00  ...        85.67        81.58        83.33   \n",
       "14     83.25     84.00      85.08  ...        82.83        83.92        82.50   \n",
       "15     82.17     84.67      85.25  ...        83.67        82.50        83.25   \n",
       "16     81.83     84.25      80.50  ...        83.25        83.25        81.42   \n",
       "17     83.25     83.83      83.33  ...        85.67        82.50        86.25   \n",
       "18     84.33     82.50      81.83  ...        83.33        84.75        79.67   \n",
       "19     84.58     83.83      84.92  ...        81.83        83.25        82.67   \n",
       "20     85.33     82.92      83.33  ...        87.00        86.08        84.33   \n",
       "21     85.50     85.00      85.08  ...        82.50        80.33        83.25   \n",
       "22     83.92     85.25      83.50  ...        84.50        82.75        85.33   \n",
       "23     86.75     81.75      82.00  ...        86.75        83.33        81.75   \n",
       "24     87.42     84.58      84.58  ...        82.33        81.83        84.42   \n",
       "25     83.67     82.33      81.42  ...        83.83        84.75        82.92   \n",
       "26     81.17     83.58      82.83  ...        80.83        82.00        85.67   \n",
       "27     84.50     85.00      81.33  ...        84.17        85.08        84.25   \n",
       "28     83.33     84.08      80.42  ...        80.50        84.25        84.67   \n",
       "29     83.83     83.67      81.00  ...        83.33        82.50        83.33   \n",
       "30     83.33     87.00      84.00  ...        84.58        83.33        85.50   \n",
       "\n",
       "    Sample 2994  Sample 2995  Sample 2996  Sample 2997  Sample 2998  \\\n",
       "0         83.08        84.33        78.00        83.25        87.42   \n",
       "1         82.25        84.58        83.42        84.58        83.83   \n",
       "2         84.75        83.08        86.67        83.25        85.00   \n",
       "3         85.50        83.42        83.08        80.33        83.33   \n",
       "4         84.42        86.17        83.50        83.25        82.92   \n",
       "5         82.58        82.75        84.08        84.08        84.33   \n",
       "6         83.83        87.08        83.67        83.42        84.75   \n",
       "7         82.17        84.50        80.83        86.25        82.75   \n",
       "8         81.92        81.58        83.33        82.92        86.08   \n",
       "9         86.25        81.17        85.50        82.25        84.08   \n",
       "10        83.25        84.83        82.17        85.50        82.42   \n",
       "11        82.00        83.92        86.25        82.83        83.25   \n",
       "12        85.33        83.25        83.33        85.08        83.25   \n",
       "13        84.00        83.50        84.50        82.00        82.08   \n",
       "14        84.00        85.08        84.67        80.42        84.58   \n",
       "15        84.58        82.33        82.83        83.50        83.92   \n",
       "16        84.33        81.00        84.67        84.00        78.08   \n",
       "17        80.33        81.83        84.92        87.00        86.25   \n",
       "18        83.33        84.08        85.00        83.83        83.08   \n",
       "19        83.67        84.00        82.17        83.42        84.83   \n",
       "20        81.75        84.83        80.33        86.50        82.33   \n",
       "21        84.67        83.42        82.83        80.42        83.92   \n",
       "22        83.92        82.00        83.75        83.33        84.25   \n",
       "23        80.17        83.83        83.00        85.50        81.33   \n",
       "24        87.42        86.67        82.17        82.75        83.75   \n",
       "25        82.75        83.25        83.33        86.17        83.92   \n",
       "26        81.83        89.33        81.17        80.33        84.08   \n",
       "27        84.08        83.67        87.08        83.25        84.58   \n",
       "28        85.33        85.50        83.25        83.50        83.17   \n",
       "29        83.50        84.33        85.42        82.33        83.58   \n",
       "30        83.92        85.25        84.25        81.83        87.58   \n",
       "\n",
       "    Sample 2999  Sample 3000  \n",
       "0         85.08        82.67  \n",
       "1         84.33        84.67  \n",
       "2         85.00        83.67  \n",
       "3         84.50        85.33  \n",
       "4         84.25        83.33  \n",
       "5         85.50        85.50  \n",
       "6         81.92        83.08  \n",
       "7         78.08        82.92  \n",
       "8         85.25        83.25  \n",
       "9         84.67        80.83  \n",
       "10        82.33        83.25  \n",
       "11        82.75        86.08  \n",
       "12        82.58        86.50  \n",
       "13        83.08        83.42  \n",
       "14        86.25        84.75  \n",
       "15        85.67        83.67  \n",
       "16        86.25        85.33  \n",
       "17        84.67        83.33  \n",
       "18        85.00        84.75  \n",
       "19        84.58        82.50  \n",
       "20        82.00        82.33  \n",
       "21        84.58        84.00  \n",
       "22        83.67        85.33  \n",
       "23        83.83        84.25  \n",
       "24        80.17        86.25  \n",
       "25        81.17        85.08  \n",
       "26        83.92        84.50  \n",
       "27        82.92        82.83  \n",
       "28        84.25        84.58  \n",
       "29        85.00        85.67  \n",
       "30        83.58        84.33  \n",
       "\n",
       "[31 rows x 3000 columns]"
      ]
     },
     "execution_count": 114,
     "metadata": {},
     "output_type": "execute_result"
    }
   ],
   "source": [
    "# sample size\n",
    "n = 31\n",
    "number_of_samples = 3000\n",
    "\n",
    "sample = []\n",
    "\n",
    "for i in range(number_of_samples):\n",
    "    sample.append(dataset['Total Cup Points'].sample(n).reset_index(drop=True))\n",
    "\n",
    "samples = pd.concat(sample, axis=1)\n",
    "samples.columns = [f\"Sample {str(i+1)}\" for i in range(number_of_samples)]\n",
    "\n",
    "(samples)"
   ]
  },
  {
   "cell_type": "code",
   "execution_count": 115,
   "id": "6debf65f",
   "metadata": {},
   "outputs": [
    {
     "data": {
      "text/plain": [
       "<Axes: ylabel='Count'>"
      ]
     },
     "execution_count": 115,
     "metadata": {},
     "output_type": "execute_result"
    },
    {
     "data": {
      "image/png": "[encoded data removed]",
      "text/plain": [
       "<Figure size 640x480 with 1 Axes>"
      ]
     },
     "metadata": {},
     "output_type": "display_data"
    }
   ],
   "source": [
    "sns.histplot(samples.mean(), kde=True)"
   ]
  },
  {
   "cell_type": "code",
   "execution_count": 116,
   "id": "72b4d1ae",
   "metadata": {},
   "outputs": [
    {
     "data": {
      "text/plain": [
       "(82.64193548387095, 84.59322580645161)"
      ]
     },
     "execution_count": 116,
     "metadata": {},
     "output_type": "execute_result"
    }
   ],
   "source": [
    "samples.mean().min(), samples.mean().max()"
   ]
  },
  {
   "cell_type": "markdown",
   "id": "be8d84e5",
   "metadata": {},
   "source": [
    "> O Teorema do Limite Central afirma que, com o aumento do tamanho da amostra, a distribuição das médias amostrais se aproxima de uma distribuição normal **com média igual à média da população** e desvio padrão igual ao desvio padrão da variável original dividido pela raiz quadrada do tamanho da amostra. Este fato é assegurado para n maior ou igual a 30."
   ]
  },
  {
   "cell_type": "code",
   "execution_count": 117,
   "id": "06fb4115",
   "metadata": {},
   "outputs": [
    {
     "data": {
      "text/plain": [
       "(83.70657004830917, 83.70478870967742)"
      ]
     },
     "execution_count": 117,
     "metadata": {},
     "output_type": "execute_result"
    }
   ],
   "source": [
    "dataset['Total Cup Points'].mean(), samples.mean().mean()"
   ]
  },
  {
   "cell_type": "code",
   "execution_count": 118,
   "id": "e8dbc6dd",
   "metadata": {},
   "outputs": [
    {
     "name": "stdout",
     "output_type": "stream",
     "text": [
      "Desvio Padrão Var. Original: 1.7304170112116843\n",
      "Desvio Padrão Médias Amostrais: 0.2856542291633263\n",
      "0.3107920699309437\n"
     ]
    }
   ],
   "source": [
    "std_df = dataset['Total Cup Points'].std()\n",
    "std_samples = samples.mean().std()\n",
    "\n",
    "print(f\"Desvio Padrão Var. Original: {std_df}\")\n",
    "print(f\"Desvio Padrão Médias Amostrais: {std_samples}\")\n",
    "print(f\"{std_df / np.sqrt(n)}\")"
   ]
  },
  {
   "cell_type": "code",
   "execution_count": 119,
   "id": "9b7489d8",
   "metadata": {},
   "outputs": [
    {
     "name": "stdout",
     "output_type": "stream",
     "text": [
      "Bootstrap Statistics:\n",
      "Original: 83.75\n",
      "bias: -0.005259999999992715\n",
      "Std. Error: 0.1569431857825114\n"
     ]
    }
   ],
   "source": [
    "# Bootstrap\n",
    "\n",
    "results = []\n",
    "\n",
    "for nrepeat in range(1000):\n",
    "    sample = resample(dataset['Total Cup Points'])\n",
    "    results.append(sample.median())\n",
    "\n",
    "results = pd.Series(results)\n",
    "\n",
    "print(\"Bootstrap Statistics:\")\n",
    "print(f\"Original: {dataset['Total Cup Points'].median()}\")\n",
    "print(f\"bias: {results.mean() - dataset['Total Cup Points'].median()}\")\n",
    "print(f\"Std. Error: {results.std()}\")"
   ]
  },
  {
   "cell_type": "code",
   "execution_count": 121,
   "id": "4a34ef90",
   "metadata": {},
   "outputs": [
    {
     "data": {
      "image/png": "[encoded data removed]",
      "text/plain": [
       "<Figure size 400x400 with 1 Axes>"
      ]
     },
     "metadata": {},
     "output_type": "display_data"
    }
   ],
   "source": [
    "fig, ax = plt.subplots(figsize=(4, 4))\n",
    "\n",
    "stats.probplot(dataset['Total Cup Points'].sample(31), plot=ax)\n",
    "\n",
    "plt.tight_layout()\n",
    "plt.show()"
   ]
  },
  {
   "cell_type": "markdown",
   "id": "5c030222-2f5b-4d30-a7d5-d50553295dbc",
   "metadata": {},
   "source": [
    "__4) No exercício anterior, construir o intervalo de confiança para a média, com nível de confiança de 95% e erro percentual de 2% (para cima ou para baixo).__"
   ]
  },
  {
   "cell_type": "code",
   "execution_count": null,
   "id": "3f0debdc-9ce4-4659-acee-b0f61e1300f3",
   "metadata": {},
   "outputs": [],
   "source": []
  },
  {
   "cell_type": "markdown",
   "id": "392df3d6-08a7-4cdf-9fd5-d7745640f834",
   "metadata": {},
   "source": [
    "__5) Se uma amostra de tamanho 30, vinda da variável aleatória do exercício 2), tiver uma média 10% maior que a média da população, a hipótese de que essas médias são iguais seria rejeitada ou não rejeitada, com um nível de confiança de 95%? (faça o teste de hipótese para responder essa pergunta).__\n"
   ]
  },
  {
   "cell_type": "code",
   "execution_count": null,
   "id": "93705003-66f9-4b4c-88a5-33e3caa36799",
   "metadata": {},
   "outputs": [],
   "source": []
  }
 ],
 "metadata": {
  "kernelspec": {
   "display_name": "Python 3 (ipykernel)",
   "language": "python",
   "name": "python3"
  },
  "language_info": {
   "codemirror_mode": {
    "name": "ipython",
    "version": 3
   },
   "file_extension": ".py",
   "mimetype": "text/x-python",
   "name": "python",
   "nbconvert_exporter": "python",
   "pygments_lexer": "ipython3",
   "version": "3.11.5"
  }
 },
 "nbformat": 4,
 "nbformat_minor": 5
}
