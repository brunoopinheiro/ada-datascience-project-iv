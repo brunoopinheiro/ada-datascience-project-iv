{
 "cells": [
  {
   "cell_type": "markdown",
   "id": "fda519c0-dc07-4a23-8c3c-752bd1d56309",
   "metadata": {},
   "source": [
    "<div style=\"background-color: lightgreen; padding: 18px;\">\n",
    "    <h1> Projeto| Estatística I\n",
    "</div>"
   ]
  },
  {
   "cell_type": "markdown",
   "id": "d1ff0af2-0397-4f49-86ef-0f8d68d2844f",
   "metadata": {},
   "source": [
    "### Esse projeto visa a aplicação dos conceitos e ferramental da Estatística desenvolvidos nesse módulo"
   ]
  },
  {
   "cell_type": "markdown",
   "id": "beb81548-3d4c-4225-9821-0f18762d631a",
   "metadata": {},
   "source": [
    "##### Para o desenvolvimento das atividades abaixo, o seu grupo pode escolher qualquer dataset que contenha uma coluna com valores inteiros."
   ]
  },
  {
   "cell_type": "code",
   "execution_count": 8,
   "id": "1583b6d5-7780-4647-bc49-fcdb31b87842",
   "metadata": {},
   "outputs": [
    {
     "data": {
      "text/html": [
       "<div>\n",
       "<style scoped>\n",
       "    .dataframe tbody tr th:only-of-type {\n",
       "        vertical-align: middle;\n",
       "    }\n",
       "\n",
       "    .dataframe tbody tr th {\n",
       "        vertical-align: top;\n",
       "    }\n",
       "\n",
       "    .dataframe thead th {\n",
       "        text-align: right;\n",
       "    }\n",
       "</style>\n",
       "<table border=\"1\" class=\"dataframe\">\n",
       "  <thead>\n",
       "    <tr style=\"text-align: right;\">\n",
       "      <th></th>\n",
       "      <th>Site</th>\n",
       "      <th>Sample</th>\n",
       "      <th>C14 age</th>\n",
       "      <th>error</th>\n",
       "      <th>State</th>\n",
       "      <th>Cal age</th>\n",
       "      <th>error.1</th>\n",
       "      <th>County / region</th>\n",
       "      <th>UTM Zone</th>\n",
       "      <th>East</th>\n",
       "      <th>North</th>\n",
       "    </tr>\n",
       "  </thead>\n",
       "  <tbody>\n",
       "    <tr>\n",
       "      <th>2681</th>\n",
       "      <td>Toca do Serrote das Moendas</td>\n",
       "      <td>USP</td>\n",
       "      <td>4324</td>\n",
       "      <td>150</td>\n",
       "      <td>PI</td>\n",
       "      <td>4934</td>\n",
       "      <td>250</td>\n",
       "      <td>São Raimundo Nonato</td>\n",
       "      <td>23L</td>\n",
       "      <td>753628</td>\n",
       "      <td>9002823</td>\n",
       "    </tr>\n",
       "  </tbody>\n",
       "</table>\n",
       "</div>"
      ],
      "text/plain": [
       "                             Site Sample   C14 age error State  Cal age  \\\n",
       "2681  Toca do Serrote das Moendas    USP      4324   150    PI     4934   \n",
       "\n",
       "      error.1      County / region UTM Zone    East    North  \n",
       "2681      250  São Raimundo Nonato      23L  753628  9002823  "
      ]
     },
     "execution_count": 8,
     "metadata": {},
     "output_type": "execute_result"
    }
   ],
   "source": [
    "import pandas as pd\n",
    "\n",
    "dataset = pd.read_csv(r\"brazilian_age_database\\brasil_carbon_data.csv\", delimiter=\";\")\n",
    "\n",
    "(dataset.sample())"
   ]
  },
  {
   "cell_type": "markdown",
   "id": "7b7102fb-7e17-472a-b346-97bad8bcbbe8",
   "metadata": {},
   "source": [
    "__1) Em algum dataset, classifique as suas colunas em Quantitativa Discreta, Quantitiva Contínua, Qualitativa Ordinal ou Qualitativa Nominal.__\n"
   ]
  },
  {
   "cell_type": "code",
   "execution_count": null,
   "id": "ecab1a38-b586-4900-8caa-cc88666d03da",
   "metadata": {},
   "outputs": [],
   "source": []
  },
  {
   "cell_type": "markdown",
   "id": "78792baf-97bd-4f56-b6b7-171f1c3cb174",
   "metadata": {},
   "source": [
    "__2) Com o mesmo dataset, construir a distribuição de probabilidade de uma feature com valores inteiros. Escrever uma função para calcular a Esperança e outra função para calcular a Variância dessa variável aleatória. Compare o resultado de sua função com os resultados de alguma nativa do Python (há muitos módulos/bibliotecas que calculam esses parâmetros). Construa uma função que faça o papel da cdf() e outra função com o papel da sf(). Desafio extra: construir funções que fazem o papel da ppf() e da isf() .__'.f'."
   ]
  },
  {
   "cell_type": "code",
   "execution_count": null,
   "id": "af203ddd-6358-49e6-bf90-84743fbb1bb4",
   "metadata": {},
   "outputs": [],
   "source": []
  },
  {
   "cell_type": "markdown",
   "id": "6821c75f-1bd1-4911-a71f-a9802a85203c",
   "metadata": {},
   "source": [
    " __3) Utilizando a variável aleatória do exercício anterior, construir a distribuição das médias amostrais para ilustrar/comprovar o Teorema do Limite Central. Comparar a média e a variância com o exercício anterior. Utilizar o teste de normalidade para verificar se essa distribuição (das médias amostrais) é normal ou  não.__\n"
   ]
  },
  {
   "cell_type": "code",
   "execution_count": null,
   "id": "7f7e1854-6d31-43d2-9751-a7feaa93b3c6",
   "metadata": {},
   "outputs": [],
   "source": []
  },
  {
   "cell_type": "markdown",
   "id": "5c030222-2f5b-4d30-a7d5-d50553295dbc",
   "metadata": {},
   "source": [
    "__4) No exercício anterior, construir o intervalo de confiança para a média, com nível de confiança de 95% e erro percentual de 2% (para cima ou para baixo).__"
   ]
  },
  {
   "cell_type": "code",
   "execution_count": null,
   "id": "3f0debdc-9ce4-4659-acee-b0f61e1300f3",
   "metadata": {},
   "outputs": [],
   "source": []
  },
  {
   "cell_type": "markdown",
   "id": "392df3d6-08a7-4cdf-9fd5-d7745640f834",
   "metadata": {},
   "source": [
    "__5) Se uma amostra de tamanho 30, vinda da variável aleatória do exercício 2), tiver uma média 10% maior que a média da população, a hipótese de que essas médias são iguais seria rejeitada ou não rejeitada, com um nível de confiança de 95%? (faça o teste de hipótese para responder essa pergunta).__\n"
   ]
  },
  {
   "cell_type": "code",
   "execution_count": null,
   "id": "93705003-66f9-4b4c-88a5-33e3caa36799",
   "metadata": {},
   "outputs": [],
   "source": []
  }
 ],
 "metadata": {
  "kernelspec": {
   "display_name": "Python 3 (ipykernel)",
   "language": "python",
   "name": "python3"
  },
  "language_info": {
   "codemirror_mode": {
    "name": "ipython",
    "version": 3
   },
   "file_extension": ".py",
   "mimetype": "text/x-python",
   "name": "python",
   "nbconvert_exporter": "python",
   "pygments_lexer": "ipython3",
   "version": "3.11.5"
  }
 },
 "nbformat": 4,
 "nbformat_minor": 5
}
